{
 "cells": [
  {
   "cell_type": "code",
   "execution_count": 1,
   "metadata": {},
   "outputs": [],
   "source": [
    "import pandas as pd\n",
    "import numpy as np\n",
    "import matplotlib.pyplot as plt\n",
    "import tensorflow as tf\n",
    "from tensorflow import keras\n",
    "import seaborn as sns\n",
    "tf.random.set_seed(1)"
   ]
  },
  {
   "cell_type": "code",
   "execution_count": 2,
   "metadata": {},
   "outputs": [
    {
     "name": "stdout",
     "output_type": "stream",
     "text": [
      "train\n",
      "(40806, 6)\n",
      "test\n",
      "(10202, 6)\n"
     ]
    }
   ],
   "source": [
    "dataset=pd.read_csv('./train_mode2_TC.csv')\n",
    "\n",
    "#데이터를 8:2로 분할    \n",
    "train_mode2_train=dataset.sample(frac=0.8,random_state=0) \n",
    "train_mode2_test = dataset.drop(train_mode2_train.index)\n",
    "\n",
    "    \n",
    "\n",
    "print(\"train\")\n",
    "print(train_mode2_train.shape)\n",
    "\n",
    "print(\"test\")\n",
    "print(train_mode2_test.shape)"
   ]
  },
  {
   "cell_type": "code",
   "execution_count": 3,
   "metadata": {},
   "outputs": [],
   "source": [
    "train_labels = train_mode2_train.pop('state')\n",
    "test_labels = train_mode2_test.pop('state')\n",
    "\n",
    "# n default: 64"
   ]
  },
  {
   "cell_type": "code",
   "execution_count": 4,
   "metadata": {},
   "outputs": [],
   "source": [
    "def build_model():\n",
    "  model = keras.Sequential([\n",
    "    keras.layers.Dense(9, activation='relu', input_shape=[len(train_mode2_train.keys())]),\n",
    "    keras.layers.Dense(9, activation='relu'),\n",
    "    keras.layers.Dense(9, activation='relu'),  \n",
    "    keras.layers.Dense(1)\n",
    "  ])\n",
    "\n",
    "              \n",
    "  optimizer = tf.keras.optimizers.RMSprop(0.00125)\n",
    "\n",
    "  model.compile(loss='mse',\n",
    "                optimizer=optimizer,\n",
    "                metrics=['mae', 'mse'])\n",
    "  return model"
   ]
  },
  {
   "cell_type": "code",
   "execution_count": 5,
   "metadata": {},
   "outputs": [
    {
     "name": "stdout",
     "output_type": "stream",
     "text": [
      "Model: \"sequential\"\n",
      "_________________________________________________________________\n",
      "Layer (type)                 Output Shape              Param #   \n",
      "=================================================================\n",
      "dense (Dense)                (None, 9)                 54        \n",
      "_________________________________________________________________\n",
      "dense_1 (Dense)              (None, 9)                 90        \n",
      "_________________________________________________________________\n",
      "dense_2 (Dense)              (None, 9)                 90        \n",
      "_________________________________________________________________\n",
      "dense_3 (Dense)              (None, 1)                 10        \n",
      "=================================================================\n",
      "Total params: 244\n",
      "Trainable params: 244\n",
      "Non-trainable params: 0\n",
      "_________________________________________________________________\n"
     ]
    }
   ],
   "source": [
    "model1=build_model()\n",
    "model2=build_model()\n",
    "model3=build_model()\n",
    "\n",
    "\n",
    "\n",
    "model1.summary()\n"
   ]
  },
  {
   "cell_type": "code",
   "execution_count": 6,
   "metadata": {},
   "outputs": [
    {
     "name": "stdout",
     "output_type": "stream",
     "text": [
      "100\n",
      "1\n",
      "\n",
      "0.0 0.01 0.02 0.03 0.04 0.05 0.06 0.07 0.08 0.09 0.1 0.11 0.12 0.13 0.14 0.15 0.16 0.17 0.18 0.19 0.2 0.21 0.22 0.23 0.24 2\n",
      "\n",
      "0.0 0.01 0.02 0.03 0.04 0.05 0.06 0.07 0.08 0.09 0.1 0.11 0.12 0.13 0.14 0.15 0.16 0.17 0.18 0.19 3\n",
      "\n",
      "0.0 0.01 0.02 0.03 0.04 0.05 0.06 0.07 0.08 0.09 0.1 0.11 0.12 0.13 0.14 0.15 0.16 0.17 0.18 0.19 0.2 0.21 0.22 0.23 0.24 0.25 0.26 0.27 0.28 0.29 0.3 0.31 0.32 0.33 0.34 0.35 0.36 0.37 0.38 0.39 0.4 0.41 0.42 0.43 0.44 0.45 0.46 0.47 0.48 0.49 0.5 0.51 0.52 0.53 "
     ]
    }
   ],
   "source": [
    "EPOCHS=100\n",
    "#\n",
    "print(EPOCHS)\n",
    "class PrintDot(keras.callbacks.Callback):\n",
    "  def on_epoch_end(self, epoch, logs):\n",
    "    if epoch % 100 == 0: print('')\n",
    "    print(epoch/100, end=' ')\n",
    "    \n",
    "early_stop = keras.callbacks.EarlyStopping(monitor='val_loss', patience=10)\n",
    "\n",
    "print(1)\n",
    "history1 = model1.fit(train_mode2_train, train_labels, epochs=EPOCHS,\n",
    "                    validation_split = 0.25, verbose=0, callbacks=[early_stop, PrintDot()])\n",
    "print(2)\n",
    "history2 = model2.fit(train_mode2_train, train_labels, epochs=EPOCHS,\n",
    "                    validation_split = 0.25, verbose=0, callbacks=[early_stop, PrintDot()])\n",
    "print(3)\n",
    "history3 = model3.fit(train_mode2_train, train_labels, epochs=EPOCHS,\n",
    "                    validation_split = 0.25, verbose=0, callbacks=[early_stop, PrintDot()])\n",
    "\n",
    "\n",
    "\n",
    "#model 확인"
   ]
  },
  {
   "cell_type": "code",
   "execution_count": 7,
   "metadata": {
    "scrolled": true
   },
   "outputs": [
    {
     "data": {
      "text/html": [
       "<div>\n",
       "<style scoped>\n",
       "    .dataframe tbody tr th:only-of-type {\n",
       "        vertical-align: middle;\n",
       "    }\n",
       "\n",
       "    .dataframe tbody tr th {\n",
       "        vertical-align: top;\n",
       "    }\n",
       "\n",
       "    .dataframe thead th {\n",
       "        text-align: right;\n",
       "    }\n",
       "</style>\n",
       "<table border=\"1\" class=\"dataframe\">\n",
       "  <thead>\n",
       "    <tr style=\"text-align: right;\">\n",
       "      <th></th>\n",
       "      <th>loss</th>\n",
       "      <th>mae</th>\n",
       "      <th>mse</th>\n",
       "      <th>val_loss</th>\n",
       "      <th>val_mae</th>\n",
       "      <th>val_mse</th>\n",
       "      <th>epoch</th>\n",
       "    </tr>\n",
       "  </thead>\n",
       "  <tbody>\n",
       "    <tr>\n",
       "      <th>20</th>\n",
       "      <td>0.361192</td>\n",
       "      <td>0.369425</td>\n",
       "      <td>0.361192</td>\n",
       "      <td>0.149294</td>\n",
       "      <td>0.310793</td>\n",
       "      <td>0.149294</td>\n",
       "      <td>20</td>\n",
       "    </tr>\n",
       "    <tr>\n",
       "      <th>21</th>\n",
       "      <td>0.588828</td>\n",
       "      <td>0.383145</td>\n",
       "      <td>0.588828</td>\n",
       "      <td>0.148179</td>\n",
       "      <td>0.311329</td>\n",
       "      <td>0.148179</td>\n",
       "      <td>21</td>\n",
       "    </tr>\n",
       "    <tr>\n",
       "      <th>22</th>\n",
       "      <td>0.592214</td>\n",
       "      <td>0.404144</td>\n",
       "      <td>0.592214</td>\n",
       "      <td>0.164168</td>\n",
       "      <td>0.346174</td>\n",
       "      <td>0.164168</td>\n",
       "      <td>22</td>\n",
       "    </tr>\n",
       "    <tr>\n",
       "      <th>23</th>\n",
       "      <td>0.315291</td>\n",
       "      <td>0.361902</td>\n",
       "      <td>0.315291</td>\n",
       "      <td>0.151448</td>\n",
       "      <td>0.315063</td>\n",
       "      <td>0.151448</td>\n",
       "      <td>23</td>\n",
       "    </tr>\n",
       "    <tr>\n",
       "      <th>24</th>\n",
       "      <td>0.289614</td>\n",
       "      <td>0.355453</td>\n",
       "      <td>0.289614</td>\n",
       "      <td>0.153421</td>\n",
       "      <td>0.333783</td>\n",
       "      <td>0.153421</td>\n",
       "      <td>24</td>\n",
       "    </tr>\n",
       "  </tbody>\n",
       "</table>\n",
       "</div>"
      ],
      "text/plain": [
       "        loss       mae       mse  val_loss   val_mae   val_mse  epoch\n",
       "20  0.361192  0.369425  0.361192  0.149294  0.310793  0.149294     20\n",
       "21  0.588828  0.383145  0.588828  0.148179  0.311329  0.148179     21\n",
       "22  0.592214  0.404144  0.592214  0.164168  0.346174  0.164168     22\n",
       "23  0.315291  0.361902  0.315291  0.151448  0.315063  0.151448     23\n",
       "24  0.289614  0.355453  0.289614  0.153421  0.333783  0.153421     24"
      ]
     },
     "execution_count": 7,
     "metadata": {},
     "output_type": "execute_result"
    }
   ],
   "source": [
    "#데이터프레임으로 결과저장\n",
    "hist1 = pd.DataFrame(history1.history)\n",
    "hist1['epoch'] = history1.epoch\n",
    "hist2 = pd.DataFrame(history2.history)\n",
    "hist2['epoch'] = history2.epoch\n",
    "hist3 = pd.DataFrame(history3.history)\n",
    "hist3['epoch'] = history3.epoch\n",
    "\n",
    "\n",
    "\n",
    "\n",
    "\n",
    "hist1.tail()\n"
   ]
  },
  {
   "cell_type": "code",
   "execution_count": 8,
   "metadata": {},
   "outputs": [
    {
     "name": "stdout",
     "output_type": "stream",
     "text": [
      "[0.38674033 0.4464749  0.46184006 ... 0.04151776 0.37687162 0.865669  ]\n",
      "[0.5335827  0.65383357 0.7052328  ... 0.20666127 0.5846972  0.967603  ]\n"
     ]
    }
   ],
   "source": [
    "#학습된 모델로 예측\n",
    "test_predictions1 = model1.predict(train_mode2_test).flatten()\n",
    "test_predictions2 = model2.predict(train_mode2_test).flatten()\n",
    "test_predictions3 = model3.predict(train_mode2_test).flatten()\n",
    "\n",
    "\n",
    "test_predictions_mean=pd.DataFrame()\n",
    "\n",
    "test_predictions_mean=(test_predictions1+test_predictions2+test_predictions3)/3\n",
    "\n",
    "print(test_predictions1)\n",
    "print(test_predictions_mean)\n",
    "#af=plt.scatter(test_labels, test_predictions_mean)\n",
    "\n",
    "#plt.xlim([0,plt.xlim()[1]])\n",
    "#plt.ylim([-1,plt.ylim()[2]])\n",
    "#_ = plt.plot([-100, 100], [-100, 100])"
   ]
  },
  {
   "cell_type": "code",
   "execution_count": 22,
   "metadata": {},
   "outputs": [
    {
     "data": {
      "text/plain": [
       "Text(0.5, 0, 'System Predictions')"
      ]
     },
     "execution_count": 22,
     "metadata": {},
     "output_type": "execute_result"
    },
    {
     "data": {
      "image/png": "[encoded data removed]",
      "text/plain": [
       "<Figure size 432x288 with 1 Axes>"
      ]
     },
     "metadata": {
      "needs_background": "light"
     },
     "output_type": "display_data"
    }
   ],
   "source": [
    "plt.scatter(test_predictions1, test_labels)\n",
    "plt.ylabel('Total')\n",
    "plt.xlabel('System Predictions')\n"
   ]
  },
  {
   "cell_type": "code",
   "execution_count": 19,
   "metadata": {},
   "outputs": [
    {
     "data": {
      "text/plain": [
       "Text(0.5, 0, 'System Predictions')"
      ]
     },
     "execution_count": 19,
     "metadata": {},
     "output_type": "execute_result"
    },
    {
     "data": {
      "image/png": "[encoded data removed]",
      "text/plain": [
       "<Figure size 432x288 with 1 Axes>"
      ]
     },
     "metadata": {
      "needs_background": "light"
     },
     "output_type": "display_data"
    }
   ],
   "source": [
    "plt.scatter(test_predictions2, test_labels)\n",
    "plt.ylabel('Total')\n",
    "plt.xlabel('System Predictions')\n"
   ]
  },
  {
   "cell_type": "code",
   "execution_count": 20,
   "metadata": {},
   "outputs": [
    {
     "data": {
      "text/plain": [
       "Text(0, 0.5, 'System Predictions')"
      ]
     },
     "execution_count": 20,
     "metadata": {},
     "output_type": "execute_result"
    },
    {
     "data": {
      "image/png": "[encoded data removed]",
      "text/plain": [
       "<Figure size 432x288 with 1 Axes>"
      ]
     },
     "metadata": {
      "needs_background": "light"
     },
     "output_type": "display_data"
    }
   ],
   "source": [
    "plt.scatter(test_predictions3, test_labels)\n",
    "plt.xlabel('Total')\n",
    "plt.ylabel('System Predictions')\n"
   ]
  },
  {
   "cell_type": "code",
   "execution_count": 21,
   "metadata": {},
   "outputs": [
    {
     "data": {
      "text/plain": [
       "Text(0.5, 0, 'System Predictions')"
      ]
     },
     "execution_count": 21,
     "metadata": {},
     "output_type": "execute_result"
    },
    {
     "data": {
      "image/png": "[encoded data removed]",
      "text/plain": [
       "<Figure size 432x288 with 1 Axes>"
      ]
     },
     "metadata": {
      "needs_background": "light"
     },
     "output_type": "display_data"
    }
   ],
   "source": [
    "plt.scatter(test_predictions_mean,test_labels)\n",
    "plt.ylabel('Total')\n",
    "plt.xlabel('System Predictions')\n"
   ]
  },
  {
   "cell_type": "code",
   "execution_count": 15,
   "metadata": {
    "scrolled": true
   },
   "outputs": [
    {
     "data": {
      "text/plain": [
       "(array([ 133.,  325.,  652.,  579.,  243.,  272.,  234.,  265., 1942.,\n",
       "        2919., 1189.,   63.,   57.,   68.,   85.,  153.,  184.,  330.,\n",
       "         369.,  140.]),\n",
       " array([-0.1973648 , -0.13038002, -0.06339524,  0.00358955,  0.07057433,\n",
       "         0.13755912,  0.2045439 ,  0.2715287 ,  0.33851346,  0.40549827,\n",
       "         0.47248304,  0.5394678 ,  0.6064526 ,  0.6734374 ,  0.7404222 ,\n",
       "         0.80740696,  0.87439173,  0.9413765 ,  1.0083613 ,  1.0753461 ,\n",
       "         1.1423309 ], dtype=float32),\n",
       " [<matplotlib.patches.Polygon at 0x1ec51444b08>])"
      ]
     },
     "execution_count": 15,
     "metadata": {},
     "output_type": "execute_result"
    },
    {
     "data": {
      "image/png": "[encoded data removed]",
      "text/plain": [
       "<Figure size 432x288 with 1 Axes>"
      ]
     },
     "metadata": {
      "needs_background": "light"
     },
     "output_type": "display_data"
    }
   ],
   "source": [
    "plt.hist(test_predictions1,bins=20, density=False, alpha=0.5,histtype='stepfilled')"
   ]
  },
  {
   "cell_type": "code",
   "execution_count": 10,
   "metadata": {},
   "outputs": [
    {
     "data": {
      "text/plain": [
       "(array([1143.,  436.,  281.,  139.,   48.,   52.,   30.,   43.,  742.,\n",
       "         508.,  686.,  969., 1455.,  559.,  511.,  967.,  762.,  385.,\n",
       "         203.,  283.]),\n",
       " array([-0.01958703,  0.0482701 ,  0.11612722,  0.18398434,  0.25184146,\n",
       "         0.31969857,  0.38755572,  0.45541283,  0.52326995,  0.5911271 ,\n",
       "         0.6589842 ,  0.72684133,  0.7946984 ,  0.86255556,  0.93041265,\n",
       "         0.9982698 ,  1.066127  ,  1.1339841 ,  1.2018411 ,  1.2696983 ,\n",
       "         1.3375554 ], dtype=float32),\n",
       " [<matplotlib.patches.Polygon at 0x1ec51298488>])"
      ]
     },
     "execution_count": 10,
     "metadata": {},
     "output_type": "execute_result"
    },
    {
     "data": {
      "image/png": "[encoded data removed]",
      "text/plain": [
       "<Figure size 432x288 with 1 Axes>"
      ]
     },
     "metadata": {
      "needs_background": "light"
     },
     "output_type": "display_data"
    }
   ],
   "source": [
    "plt.hist(test_predictions2,bins=20, density=False, alpha=0.5,histtype='stepfilled')"
   ]
  },
  {
   "cell_type": "code",
   "execution_count": 11,
   "metadata": {},
   "outputs": [
    {
     "data": {
      "text/plain": [
       "(array([  84.,   70.,   77.,  453.,  570.,  409.,  432.,  277.,  213.,\n",
       "         225., 5740.,   97.,  172.,   91.,  136.,  128.,  308.,  436.,\n",
       "         228.,   56.]),\n",
       " array([0.1042459 , 0.15580183, 0.20735775, 0.25891367, 0.3104696 ,\n",
       "        0.36202553, 0.41358146, 0.4651374 , 0.5166933 , 0.5682492 ,\n",
       "        0.61980516, 0.6713611 , 0.722917  , 0.77447295, 0.8260289 ,\n",
       "        0.8775848 , 0.9291407 , 0.9806966 , 1.0322526 , 1.0838085 ,\n",
       "        1.1353644 ], dtype=float32),\n",
       " [<matplotlib.patches.Polygon at 0x1ec51307708>])"
      ]
     },
     "execution_count": 11,
     "metadata": {},
     "output_type": "execute_result"
    },
    {
     "data": {
      "image/png": "[encoded data removed]",
      "text/plain": [
       "<Figure size 432x288 with 1 Axes>"
      ]
     },
     "metadata": {
      "needs_background": "light"
     },
     "output_type": "display_data"
    }
   ],
   "source": [
    "plt.hist(test_predictions3,bins=20, density=False, alpha=0.5,histtype='stepfilled')"
   ]
  },
  {
   "cell_type": "code",
   "execution_count": 12,
   "metadata": {},
   "outputs": [
    {
     "data": {
      "text/plain": [
       "(array([  68.,  498.,  557.,  331.,  286.,  225.,  253.,  219.,  209.,\n",
       "         657.,  998., 2196., 1007.,  648.,  633.,  199.,  124.,  398.,\n",
       "         533.,  163.]),\n",
       " array([-0.02705899,  0.0301597 ,  0.08737839,  0.14459708,  0.20181577,\n",
       "         0.25903445,  0.31625316,  0.37347183,  0.43069053,  0.48790923,\n",
       "         0.5451279 ,  0.6023466 ,  0.65956527,  0.716784  ,  0.7740027 ,\n",
       "         0.83122134,  0.8884401 ,  0.94565874,  1.0028775 ,  1.0600961 ,\n",
       "         1.1173148 ], dtype=float32),\n",
       " [<matplotlib.patches.Polygon at 0x1ec5136cc48>])"
      ]
     },
     "execution_count": 12,
     "metadata": {},
     "output_type": "execute_result"
    },
    {
     "data": {
      "image/png": "[encoded data removed]",
      "text/plain": [
       "<Figure size 432x288 with 1 Axes>"
      ]
     },
     "metadata": {
      "needs_background": "light"
     },
     "output_type": "display_data"
    }
   ],
   "source": [
    "plt.hist(test_predictions_mean,bins=20, density=False, alpha=0.5,histtype='stepfilled')"
   ]
  },
  {
   "cell_type": "code",
   "execution_count": 13,
   "metadata": {},
   "outputs": [],
   "source": [
    "#plt.hist(test_predictions,bins=20, density=False, alpha=0.5,histtype='stepfilled')\n",
    "plt.show()"
   ]
  },
  {
   "cell_type": "code",
   "execution_count": null,
   "metadata": {},
   "outputs": [],
   "source": []
  }
 ],
 "metadata": {
  "kernelspec": {
   "display_name": "Python 3",
   "language": "python",
   "name": "python3"
  },
  "language_info": {
   "codemirror_mode": {
    "name": "ipython",
    "version": 3
   },
   "file_extension": ".py",
   "mimetype": "text/x-python",
   "name": "python",
   "nbconvert_exporter": "python",
   "pygments_lexer": "ipython3",
   "version": "3.7.9"
  }
 },
 "nbformat": 4,
 "nbformat_minor": 4
}
