{
 "cells": [
  {
   "cell_type": "code",
   "execution_count": 275,
   "metadata": {},
   "outputs": [],
   "source": [
    "import pandas as pd\n",
    "import numpy as np\n",
    "import matplotlib.pyplot as plt\n",
    "import tensorflow as tf\n",
    "from tensorflow import keras\n",
    "import seaborn as sns\n",
    "tf.random.set_seed(1)"
   ]
  },
  {
   "cell_type": "code",
   "execution_count": 276,
   "metadata": {},
   "outputs": [
    {
     "name": "stdout",
     "output_type": "stream",
     "text": [
      "train\n",
      "(223313, 15)\n",
      "test\n",
      "(55828, 15)\n"
     ]
    }
   ],
   "source": [
    "dataset=pd.read_csv('./train_mode3_Comb.csv')\n",
    "\n",
    "#데이터를 8:2로 분할    \n",
    "train_mode3_train=dataset.sample(frac=0.8,random_state=0) \n",
    "train_mode3_test = dataset.drop(train_mode3_train.index)\n",
    "\n",
    "    \n",
    "\n",
    "print(\"train\")\n",
    "print(train_mode3_train.shape)\n",
    "\n",
    "print(\"test\")\n",
    "print(train_mode3_test.shape)"
   ]
  },
  {
   "cell_type": "code",
   "execution_count": 277,
   "metadata": {},
   "outputs": [
    {
     "name": "stdout",
     "output_type": "stream",
     "text": [
      "        Unnamed: 0  Base duration gas admission  DVT control air press (PT43)  \\\n",
      "0            26454                    -1.196966                      1.001537   \n",
      "1            11827                     0.093222                      0.989186   \n",
      "2             1825                    -0.387570                      0.036987   \n",
      "3            24468                     0.161243                      0.953338   \n",
      "4             1160                    -0.639344                     -0.108925   \n",
      "...            ...                          ...                           ...   \n",
      "279136       15796                     0.233912                      0.982065   \n",
      "279137         424                    -0.350379                     -0.080729   \n",
      "279138       14120                     0.383166                      0.995688   \n",
      "279139        6819                    -0.090286                     -0.069385   \n",
      "279140       12104                     0.078786                     -0.069396   \n",
      "\n",
      "        Engine Load percent  Engine Speed 1 (SE11)  Exh. Gas temp average  \\\n",
      "0                 -0.875416               0.157143              -0.094657   \n",
      "1                  0.594631               0.742857               0.880949   \n",
      "2                 -0.340692               0.828571              -0.579743   \n",
      "3                  0.599068              -1.814286               0.821424   \n",
      "4                 -0.576215              -0.471429              -0.584648   \n",
      "...                     ...                    ...                    ...   \n",
      "279136             0.607056               0.028571               1.027310   \n",
      "279137            -0.333592              -0.542857              -0.376641   \n",
      "279138             0.579432              -0.285714               0.826992   \n",
      "279139            -0.048591               1.042857              -0.026515   \n",
      "279140             0.000555               1.085714              -0.141853   \n",
      "\n",
      "        FO Pressure Engine Inlet  FO Temperature Engine Inlet  IMEP average  \\\n",
      "0                       0.500000                    -0.669444     -0.939889   \n",
      "1                       0.333333                    -0.002778      0.541711   \n",
      "2                       0.783333                     0.446111     -0.351402   \n",
      "3                      -0.650000                    -0.002778      0.547666   \n",
      "4                      -0.650000                     1.292222     -0.581768   \n",
      "...                          ...                          ...           ...   \n",
      "279136                  0.733333                     0.330556      0.540439   \n",
      "279137                  0.033333                     0.001111     -0.316028   \n",
      "279138                 -0.266667                    -0.336111      0.499720   \n",
      "279139                 -0.600000                     1.652778     -0.048862   \n",
      "279140                 -0.266667                    -0.002778     -0.000865   \n",
      "\n",
      "        Pmax average  Waste Gate Valve position command (CV26)  \\\n",
      "0          -0.831250                                 -0.158924   \n",
      "1           0.946293                                 -0.292910   \n",
      "2          -0.267618                                 -0.980440   \n",
      "3           0.904678                                  0.523716   \n",
      "4          -0.498715                                 -0.584352   \n",
      "...              ...                                       ...   \n",
      "279136      0.783128                                  0.474328   \n",
      "279137     -0.243693                                 -0.765281   \n",
      "279138      0.649884                                  1.682152   \n",
      "279139      0.019080                                 -1.082152   \n",
      "279140     -0.102425                                  0.729584   \n",
      "\n",
      "        (Load-b)/(IMEP+1)  (Pmax average-b)/(IMEP+1)  \\\n",
      "0                1.046201                   0.086939   \n",
      "1                0.741976                   0.844632   \n",
      "2               -0.022943                  -0.132182   \n",
      "3                0.716574                   0.678315   \n",
      "4               -0.143615                  -0.094230   \n",
      "...                   ...                        ...   \n",
      "279136           0.969699                   0.284181   \n",
      "279137          -0.552700                  -0.183159   \n",
      "279138           1.191258                  -0.029636   \n",
      "279139          -0.188342                  -0.241385   \n",
      "279140          -0.162855                  -0.882718   \n",
      "\n",
      "        Load/(IMEP+1 x Engine speed+1)  state  \n",
      "0                            -0.381084      1  \n",
      "1                             0.620819      1  \n",
      "2                            -0.288894      0  \n",
      "3                             0.632141      1  \n",
      "4                            -0.514132      0  \n",
      "...                                ...    ...  \n",
      "279136                        0.712639      1  \n",
      "279137                       -0.456140      0  \n",
      "279138                        0.775388      1  \n",
      "279139                       -0.127465      0  \n",
      "279140                       -0.083867      0  \n",
      "\n",
      "[279141 rows x 15 columns]\n"
     ]
    }
   ],
   "source": [
    "print(dataset)"
   ]
  },
  {
   "cell_type": "code",
   "execution_count": 278,
   "metadata": {},
   "outputs": [
    {
     "data": {
      "text/plain": [
       "10         1840\n",
       "21         7227\n",
       "27         1893\n",
       "37         4458\n",
       "40          422\n",
       "          ...  \n",
       "279098    11551\n",
       "279115    12668\n",
       "279121     2513\n",
       "279127    20614\n",
       "279135     2842\n",
       "Name: Unnamed: 0, Length: 55828, dtype: int64"
      ]
     },
     "execution_count": 278,
     "metadata": {},
     "output_type": "execute_result"
    }
   ],
   "source": [
    "train_mode3_train.pop('Unnamed: 0')\n",
    "train_mode3_test.pop('Unnamed: 0')\n"
   ]
  },
  {
   "cell_type": "code",
   "execution_count": 279,
   "metadata": {},
   "outputs": [],
   "source": [
    "train_labels = train_mode3_train.pop('state')\n",
    "test_labels = train_mode3_test.pop('state')\n"
   ]
  },
  {
   "cell_type": "code",
   "execution_count": 280,
   "metadata": {},
   "outputs": [],
   "source": [
    "def build_model():\n",
    "  model = keras.Sequential([\n",
    "    keras.layers.Dense(29, activation='relu', input_shape=[len(train_mode3_train.keys())]),\n",
    "    keras.layers.Dense(29, activation='relu'),\n",
    "    keras.layers.Dense(29, activation='relu'),  \n",
    "    keras.layers.Dense(1)\n",
    "  ])\n",
    "\n",
    "              \n",
    "  optimizer = tf.keras.optimizers.RMSprop(0.003)\n",
    "\n",
    "  model.compile(loss='mse',\n",
    "                optimizer=optimizer,\n",
    "                metrics=['mae', 'mse'])\n",
    "  return model"
   ]
  },
  {
   "cell_type": "code",
   "execution_count": 281,
   "metadata": {},
   "outputs": [
    {
     "name": "stdout",
     "output_type": "stream",
     "text": [
      "Model: \"sequential_63\"\n",
      "_________________________________________________________________\n",
      "Layer (type)                 Output Shape              Param #   \n",
      "=================================================================\n",
      "dense_252 (Dense)            (None, 29)                406       \n",
      "_________________________________________________________________\n",
      "dense_253 (Dense)            (None, 29)                870       \n",
      "_________________________________________________________________\n",
      "dense_254 (Dense)            (None, 29)                870       \n",
      "_________________________________________________________________\n",
      "dense_255 (Dense)            (None, 1)                 30        \n",
      "=================================================================\n",
      "Total params: 2,176\n",
      "Trainable params: 2,176\n",
      "Non-trainable params: 0\n",
      "_________________________________________________________________\n"
     ]
    }
   ],
   "source": [
    "model1=build_model()\n",
    "model2=build_model()\n",
    "model3=build_model()\n",
    "\n",
    "\n",
    "\n",
    "model1.summary()\n"
   ]
  },
  {
   "cell_type": "code",
   "execution_count": 282,
   "metadata": {},
   "outputs": [
    {
     "name": "stdout",
     "output_type": "stream",
     "text": [
      "1000\n",
      "\n",
      "\n",
      "1\n",
      "\n",
      "0.0 0.1 0.2 0.3 0.4 0.5 0.6 0.7 0.8 0.9 1.0 1.1 1.2 1.3 1.4 1.5 \n",
      "\n",
      "2\n",
      "\n",
      "0.0 0.1 0.2 0.3 0.4 0.5 0.6 0.7 0.8 0.9 1.0 1.1 1.2 1.3 1.4 1.5 1.6 1.7 1.8 1.9 2.0 2.1 2.2 2.3 \n",
      "\n",
      "3\n",
      "\n",
      "0.0 0.1 0.2 0.3 0.4 0.5 0.6 0.7 0.8 0.9 1.0 1.1 1.2 1.3 "
     ]
    }
   ],
   "source": [
    "EPOCHS=100\n",
    "#\n",
    "print(EPOCHS)\n",
    "class PrintDot(keras.callbacks.Callback):\n",
    "  def on_epoch_end(self, epoch, logs):\n",
    "    if epoch % 100 == 0: print('')\n",
    "    print(epoch/10, end=' ')\n",
    "    \n",
    "early_stop = keras.callbacks.EarlyStopping(monitor='val_loss', patience=10)\n",
    "print(\"\\n\")\n",
    "\n",
    "print(1)\n",
    "history1 = model1.fit(train_mode3_train, train_labels, epochs=EPOCHS,\n",
    "                    validation_split = 0.25, verbose=0, callbacks=[early_stop, PrintDot()])\n",
    "print(\"\\n\")\n",
    "\n",
    "print(2)\n",
    "\n",
    "history2 = model2.fit(train_mode3_train, train_labels, epochs=EPOCHS,\n",
    "                    validation_split = 0.25, verbose=0, callbacks=[early_stop, PrintDot()])\n",
    "print(\"\\n\")\n",
    "\n",
    "print(3)\n",
    "\n",
    "history3 = model3.fit(train_mode3_train, train_labels, epochs=EPOCHS,\n",
    "                    validation_split = 0.25, verbose=0, callbacks=[early_stop, PrintDot()])\n",
    "\n",
    "\n",
    "\n",
    "#model 확인"
   ]
  },
  {
   "cell_type": "code",
   "execution_count": 283,
   "metadata": {},
   "outputs": [
    {
     "data": {
      "text/html": [
       "<div>\n",
       "<style scoped>\n",
       "    .dataframe tbody tr th:only-of-type {\n",
       "        vertical-align: middle;\n",
       "    }\n",
       "\n",
       "    .dataframe tbody tr th {\n",
       "        vertical-align: top;\n",
       "    }\n",
       "\n",
       "    .dataframe thead th {\n",
       "        text-align: right;\n",
       "    }\n",
       "</style>\n",
       "<table border=\"1\" class=\"dataframe\">\n",
       "  <thead>\n",
       "    <tr style=\"text-align: right;\">\n",
       "      <th></th>\n",
       "      <th>loss</th>\n",
       "      <th>mae</th>\n",
       "      <th>mse</th>\n",
       "      <th>val_loss</th>\n",
       "      <th>val_mae</th>\n",
       "      <th>val_mse</th>\n",
       "      <th>epoch</th>\n",
       "    </tr>\n",
       "  </thead>\n",
       "  <tbody>\n",
       "    <tr>\n",
       "      <th>11</th>\n",
       "      <td>0.000961</td>\n",
       "      <td>0.006085</td>\n",
       "      <td>0.000961</td>\n",
       "      <td>0.000699</td>\n",
       "      <td>0.011528</td>\n",
       "      <td>0.000699</td>\n",
       "      <td>11</td>\n",
       "    </tr>\n",
       "    <tr>\n",
       "      <th>12</th>\n",
       "      <td>0.001558</td>\n",
       "      <td>0.006843</td>\n",
       "      <td>0.001558</td>\n",
       "      <td>0.001615</td>\n",
       "      <td>0.004031</td>\n",
       "      <td>0.001615</td>\n",
       "      <td>12</td>\n",
       "    </tr>\n",
       "    <tr>\n",
       "      <th>13</th>\n",
       "      <td>0.001837</td>\n",
       "      <td>0.007426</td>\n",
       "      <td>0.001837</td>\n",
       "      <td>0.001056</td>\n",
       "      <td>0.002027</td>\n",
       "      <td>0.001056</td>\n",
       "      <td>13</td>\n",
       "    </tr>\n",
       "    <tr>\n",
       "      <th>14</th>\n",
       "      <td>0.001407</td>\n",
       "      <td>0.005640</td>\n",
       "      <td>0.001407</td>\n",
       "      <td>0.000778</td>\n",
       "      <td>0.003521</td>\n",
       "      <td>0.000778</td>\n",
       "      <td>14</td>\n",
       "    </tr>\n",
       "    <tr>\n",
       "      <th>15</th>\n",
       "      <td>0.001218</td>\n",
       "      <td>0.005067</td>\n",
       "      <td>0.001218</td>\n",
       "      <td>0.001682</td>\n",
       "      <td>0.010572</td>\n",
       "      <td>0.001682</td>\n",
       "      <td>15</td>\n",
       "    </tr>\n",
       "  </tbody>\n",
       "</table>\n",
       "</div>"
      ],
      "text/plain": [
       "        loss       mae       mse  val_loss   val_mae   val_mse  epoch\n",
       "11  0.000961  0.006085  0.000961  0.000699  0.011528  0.000699     11\n",
       "12  0.001558  0.006843  0.001558  0.001615  0.004031  0.001615     12\n",
       "13  0.001837  0.007426  0.001837  0.001056  0.002027  0.001056     13\n",
       "14  0.001407  0.005640  0.001407  0.000778  0.003521  0.000778     14\n",
       "15  0.001218  0.005067  0.001218  0.001682  0.010572  0.001682     15"
      ]
     },
     "execution_count": 283,
     "metadata": {},
     "output_type": "execute_result"
    }
   ],
   "source": [
    "#데이터프레임으로 결과저장\n",
    "hist1 = pd.DataFrame(history1.history)\n",
    "hist1['epoch'] = history1.epoch\n",
    "hist2 = pd.DataFrame(history2.history)\n",
    "hist2['epoch'] = history2.epoch\n",
    "hist3 = pd.DataFrame(history3.history)\n",
    "hist3['epoch'] = history3.epoch\n",
    "\n",
    "\n",
    "\n",
    "\n",
    "\n",
    "hist1.tail()\n"
   ]
  },
  {
   "cell_type": "code",
   "execution_count": 284,
   "metadata": {
    "scrolled": true
   },
   "outputs": [
    {
     "name": "stdout",
     "output_type": "stream",
     "text": [
      "[-0.00181872  0.9895836   0.9895836  ... -0.00699483  0.9895836\n",
      "  0.9895836 ]\n",
      "[-9.0720208e-04  9.9640203e-01  9.9640203e-01 ... -1.2296328e-03\n",
      "  9.9640203e-01  9.9640203e-01]\n"
     ]
    }
   ],
   "source": [
    "#학습된 모델로 예측\n",
    "test_predictions1 = model1.predict(train_mode3_test).flatten()\n",
    "test_predictions2 = model2.predict(train_mode3_test).flatten()\n",
    "test_predictions3 = model3.predict(train_mode3_test).flatten()\n",
    "\n",
    "\n",
    "test_predictions_mean=pd.DataFrame()\n",
    "\n",
    "test_predictions_mean=(test_predictions1+test_predictions2+test_predictions3)/3\n",
    "\n",
    "print(test_predictions1)\n",
    "print(test_predictions_mean)\n",
    "#af=plt.scatter(test_labels, test_predictions_mean)\n",
    "\n",
    "#plt.xlim([0,plt.xlim()[1]])\n",
    "#plt.ylim([-1,plt.ylim()[2]])\n",
    "#_ = plt.plot([-100, 100], [-100, 100])"
   ]
  },
  {
   "cell_type": "code",
   "execution_count": 285,
   "metadata": {
    "scrolled": true
   },
   "outputs": [
    {
     "data": {
      "text/plain": [
       "Text(0.5, 0, 'System Predictions')"
      ]
     },
     "execution_count": 285,
     "metadata": {},
     "output_type": "execute_result"
    },
    {
     "data": {
      "image/png": "[encoded data removed]",
      "text/plain": [
       "<Figure size 432x288 with 1 Axes>"
      ]
     },
     "metadata": {
      "needs_background": "light"
     },
     "output_type": "display_data"
    }
   ],
   "source": [
    "plt.scatter(test_predictions1,test_labels)\n",
    "plt.ylabel('Total')\n",
    "plt.xlabel('System Predictions')\n"
   ]
  },
  {
   "cell_type": "code",
   "execution_count": 286,
   "metadata": {},
   "outputs": [
    {
     "data": {
      "text/plain": [
       "Text(0.5, 0, 'System Predictions')"
      ]
     },
     "execution_count": 286,
     "metadata": {},
     "output_type": "execute_result"
    },
    {
     "data": {
      "image/png": "[encoded data removed]",
      "text/plain": [
       "<Figure size 432x288 with 1 Axes>"
      ]
     },
     "metadata": {
      "needs_background": "light"
     },
     "output_type": "display_data"
    }
   ],
   "source": [
    "plt.scatter(test_predictions2,test_labels)\n",
    "plt.ylabel('Total')\n",
    "plt.xlabel('System Predictions')\n"
   ]
  },
  {
   "cell_type": "code",
   "execution_count": 287,
   "metadata": {},
   "outputs": [
    {
     "data": {
      "text/plain": [
       "Text(0.5, 0, 'System Predictions')"
      ]
     },
     "execution_count": 287,
     "metadata": {},
     "output_type": "execute_result"
    },
    {
     "data": {
      "image/png": "[encoded data removed]",
      "text/plain": [
       "<Figure size 432x288 with 1 Axes>"
      ]
     },
     "metadata": {
      "needs_background": "light"
     },
     "output_type": "display_data"
    }
   ],
   "source": [
    "plt.scatter(test_predictions3,test_labels)\n",
    "plt.ylabel('Total')\n",
    "plt.xlabel('System Predictions')\n"
   ]
  },
  {
   "cell_type": "code",
   "execution_count": 288,
   "metadata": {
    "scrolled": true
   },
   "outputs": [
    {
     "data": {
      "text/plain": [
       "Text(0.5, 0, 'System Predictions')"
      ]
     },
     "execution_count": 288,
     "metadata": {},
     "output_type": "execute_result"
    },
    {
     "data": {
      "image/png": "[encoded data removed]",
      "text/plain": [
       "<Figure size 432x288 with 1 Axes>"
      ]
     },
     "metadata": {
      "needs_background": "light"
     },
     "output_type": "display_data"
    }
   ],
   "source": [
    "plt.scatter(test_predictions_mean,test_labels)\n",
    "plt.ylabel('Total')\n",
    "plt.xlabel('System Predictions')\n"
   ]
  },
  {
   "cell_type": "code",
   "execution_count": 289,
   "metadata": {},
   "outputs": [
    {
     "data": {
      "text/plain": [
       "(array([2.7305e+04, 9.0000e+00, 7.0000e+00, 9.0000e+00, 4.0000e+00,\n",
       "        3.0000e+00, 4.0000e+00, 6.0000e+00, 5.0000e+00, 4.0000e+00,\n",
       "        3.0000e+00, 1.4000e+01, 1.0000e+01, 2.4000e+01, 2.2000e+01,\n",
       "        1.1000e+01, 6.0000e+00, 3.0000e+00, 4.0000e+00, 2.8375e+04]),\n",
       " array([-0.02998875,  0.02125   ,  0.07248875,  0.12372752,  0.17496626,\n",
       "         0.22620502,  0.27744377,  0.3286825 ,  0.3799213 ,  0.43116003,\n",
       "         0.48239878,  0.5336375 ,  0.5848763 ,  0.6361151 ,  0.6873538 ,\n",
       "         0.73859257,  0.7898313 ,  0.84107006,  0.89230883,  0.94354755,\n",
       "         0.9947863 ], dtype=float32),\n",
       " [<matplotlib.patches.Polygon at 0x2bdbe2b5bc8>])"
      ]
     },
     "execution_count": 289,
     "metadata": {},
     "output_type": "execute_result"
    },
    {
     "data": {
      "image/png": "[encoded data removed]",
      "text/plain": [
       "<Figure size 432x288 with 1 Axes>"
      ]
     },
     "metadata": {
      "needs_background": "light"
     },
     "output_type": "display_data"
    }
   ],
   "source": [
    "plt.hist(test_predictions1,bins=20, density=False, alpha=0.5,histtype='stepfilled')"
   ]
  },
  {
   "cell_type": "code",
   "execution_count": 290,
   "metadata": {},
   "outputs": [
    {
     "data": {
      "text/plain": [
       "(array([2.7321e+04, 0.0000e+00, 0.0000e+00, 0.0000e+00, 0.0000e+00,\n",
       "        0.0000e+00, 4.0000e+00, 2.0000e+00, 0.0000e+00, 0.0000e+00,\n",
       "        2.0000e+00, 5.0000e+00, 2.0000e+00, 6.0000e+00, 4.0000e+00,\n",
       "        9.0000e+00, 1.6000e+01, 1.2000e+01, 1.3000e+01, 2.8432e+04]),\n",
       " array([-6.2060956e-04,  5.1327080e-02,  1.0327477e-01,  1.5522246e-01,\n",
       "         2.0717014e-01,  2.5911784e-01,  3.1106552e-01,  3.6301321e-01,\n",
       "         4.1496089e-01,  4.6690860e-01,  5.1885629e-01,  5.7080400e-01,\n",
       "         6.2275165e-01,  6.7469937e-01,  7.2664702e-01,  7.7859473e-01,\n",
       "         8.3054245e-01,  8.8249010e-01,  9.3443781e-01,  9.8638546e-01,\n",
       "         1.0383332e+00], dtype=float32),\n",
       " [<matplotlib.patches.Polygon at 0x2bdccae3dc8>])"
      ]
     },
     "execution_count": 290,
     "metadata": {},
     "output_type": "execute_result"
    },
    {
     "data": {
      "image/png": "[encoded data removed]",
      "text/plain": [
       "<Figure size 432x288 with 1 Axes>"
      ]
     },
     "metadata": {
      "needs_background": "light"
     },
     "output_type": "display_data"
    }
   ],
   "source": [
    "plt.hist(test_predictions2,bins=20, density=False, alpha=0.5,histtype='stepfilled')"
   ]
  },
  {
   "cell_type": "code",
   "execution_count": 291,
   "metadata": {},
   "outputs": [
    {
     "data": {
      "text/plain": [
       "(array([2.0000e+00, 1.0000e+00, 2.0000e+00, 2.7233e+04, 1.9400e+02,\n",
       "        0.0000e+00, 1.0000e+00, 0.0000e+00, 1.0000e+00, 0.0000e+00,\n",
       "        0.0000e+00, 2.0000e+00, 1.0000e+00, 1.0000e+00, 1.0000e+00,\n",
       "        1.0000e+00, 0.0000e+00, 1.0000e+00, 2.0000e+00, 2.8385e+04]),\n",
       " array([-0.1960513 , -0.13627473, -0.07649817, -0.0167216 ,  0.04305498,\n",
       "         0.10283154,  0.16260812,  0.22238468,  0.28216124,  0.3419378 ,\n",
       "         0.40171438,  0.46149096,  0.52126753,  0.5810441 ,  0.6408207 ,\n",
       "         0.7005972 ,  0.7603738 ,  0.8201504 ,  0.8799269 ,  0.9397035 ,\n",
       "         0.99948007], dtype=float32),\n",
       " [<matplotlib.patches.Polygon at 0x2bdca6634c8>])"
      ]
     },
     "execution_count": 291,
     "metadata": {},
     "output_type": "execute_result"
    },
    {
     "data": {
      "image/png": "[encoded data removed]",
      "text/plain": [
       "<Figure size 432x288 with 1 Axes>"
      ]
     },
     "metadata": {
      "needs_background": "light"
     },
     "output_type": "display_data"
    }
   ],
   "source": [
    "plt.hist(test_predictions3,bins=20, density=False, alpha=0.5,histtype='stepfilled')"
   ]
  },
  {
   "cell_type": "code",
   "execution_count": 292,
   "metadata": {},
   "outputs": [
    {
     "data": {
      "text/plain": [
       "(array([2.7247e+04, 8.0000e+00, 8.0000e+00, 1.0000e+01, 5.0000e+00,\n",
       "        8.0000e+00, 4.2000e+01, 6.0000e+00, 4.0000e+00, 1.1000e+01,\n",
       "        2.0000e+01, 2.8000e+01, 1.1000e+01, 9.0000e+01, 7.0000e+00,\n",
       "        6.0000e+00, 5.0000e+00, 8.0000e+00, 8.0000e+00, 2.8296e+04]),\n",
       " array([-0.00417974,  0.04593606,  0.09605186,  0.14616767,  0.19628346,\n",
       "         0.24639927,  0.29651508,  0.34663087,  0.39674667,  0.44686246,\n",
       "         0.49697828,  0.54709405,  0.5972099 ,  0.6473257 ,  0.69744146,\n",
       "         0.7475573 ,  0.7976731 ,  0.8477889 ,  0.8979047 ,  0.94802046,\n",
       "         0.9981363 ], dtype=float32),\n",
       " [<matplotlib.patches.Polygon at 0x2bdc8b9d8c8>])"
      ]
     },
     "execution_count": 292,
     "metadata": {},
     "output_type": "execute_result"
    },
    {
     "data": {
      "image/png": "[encoded data removed]",
      "text/plain": [
       "<Figure size 432x288 with 1 Axes>"
      ]
     },
     "metadata": {
      "needs_background": "light"
     },
     "output_type": "display_data"
    }
   ],
   "source": [
    "plt.hist(test_predictions_mean,bins=20, density=False, alpha=0.5,histtype='stepfilled')"
   ]
  },
  {
   "cell_type": "code",
   "execution_count": null,
   "metadata": {},
   "outputs": [],
   "source": []
  },
  {
   "cell_type": "code",
   "execution_count": null,
   "metadata": {},
   "outputs": [],
   "source": []
  },
  {
   "cell_type": "code",
   "execution_count": null,
   "metadata": {},
   "outputs": [],
   "source": []
  },
  {
   "cell_type": "code",
   "execution_count": null,
   "metadata": {},
   "outputs": [],
   "source": []
  },
  {
   "cell_type": "code",
   "execution_count": null,
   "metadata": {},
   "outputs": [],
   "source": []
  },
  {
   "cell_type": "code",
   "execution_count": null,
   "metadata": {},
   "outputs": [],
   "source": []
  },
  {
   "cell_type": "code",
   "execution_count": null,
   "metadata": {},
   "outputs": [],
   "source": []
  },
  {
   "cell_type": "code",
   "execution_count": null,
   "metadata": {},
   "outputs": [],
   "source": []
  }
 ],
 "metadata": {
  "kernelspec": {
   "display_name": "Python 3",
   "language": "python",
   "name": "python3"
  },
  "language_info": {
   "codemirror_mode": {
    "name": "ipython",
    "version": 3
   },
   "file_extension": ".py",
   "mimetype": "text/x-python",
   "name": "python",
   "nbconvert_exporter": "python",
   "pygments_lexer": "ipython3",
   "version": "3.7.9"
  }
 },
 "nbformat": 4,
 "nbformat_minor": 4
}
