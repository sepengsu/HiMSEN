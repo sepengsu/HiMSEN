{
 "cells": [
  {
   "cell_type": "code",
   "execution_count": 1,
   "metadata": {},
   "outputs": [],
   "source": [
    "import pandas            as pd\n",
    "import numpy             as np\n",
    "import seaborn           as sb\n",
    "import scipy.stats       as sp\n",
    "import matplotlib.pyplot as plt\n",
    "from sklearn.preprocessing import RobustScaler\n",
    "from sklearn.linear_model import LinearRegression\n",
    "from sklearn.metrics import mean_squared_error\n",
    "\n",
    "import tensorflow as tf\n",
    "from tensorflow import keras\n"
   ]
  },
  {
   "cell_type": "code",
   "execution_count": 2,
   "metadata": {},
   "outputs": [
    {
     "data": {
      "text/html": [
       "<div>\n",
       "<style scoped>\n",
       "    .dataframe tbody tr th:only-of-type {\n",
       "        vertical-align: middle;\n",
       "    }\n",
       "\n",
       "    .dataframe tbody tr th {\n",
       "        vertical-align: top;\n",
       "    }\n",
       "\n",
       "    .dataframe thead th {\n",
       "        text-align: right;\n",
       "    }\n",
       "</style>\n",
       "<table border=\"1\" class=\"dataframe\">\n",
       "  <thead>\n",
       "    <tr style=\"text-align: right;\">\n",
       "      <th></th>\n",
       "      <th>test_normal</th>\n",
       "      <th>test_abnormal</th>\n",
       "      <th>train_normal</th>\n",
       "      <th>train_abnormal</th>\n",
       "    </tr>\n",
       "    <tr>\n",
       "      <th>Unnamed: 0</th>\n",
       "      <th></th>\n",
       "      <th></th>\n",
       "      <th></th>\n",
       "      <th></th>\n",
       "    </tr>\n",
       "  </thead>\n",
       "  <tbody>\n",
       "    <tr>\n",
       "      <th>mode2</th>\n",
       "      <td>38</td>\n",
       "      <td>29</td>\n",
       "      <td>19</td>\n",
       "      <td>22</td>\n",
       "    </tr>\n",
       "    <tr>\n",
       "      <th>mode3</th>\n",
       "      <td>40</td>\n",
       "      <td>28</td>\n",
       "      <td>166</td>\n",
       "      <td>683</td>\n",
       "    </tr>\n",
       "  </tbody>\n",
       "</table>\n",
       "</div>"
      ],
      "text/plain": [
       "            test_normal  test_abnormal  train_normal  train_abnormal\n",
       "Unnamed: 0                                                          \n",
       "mode2                38             29            19              22\n",
       "mode3                40             28           166             683"
      ]
     },
     "execution_count": 2,
     "metadata": {},
     "output_type": "execute_result"
    }
   ],
   "source": [
    "tf.random.set_seed(1)\n",
    "\n",
    "NumOfData=pd.read_csv('./AmountOfDataAll',sep=',')\n",
    "NumOfData=NumOfData.set_index('Unnamed: 0')\n",
    "NumOfData"
   ]
  },
  {
   "cell_type": "code",
   "execution_count": null,
   "metadata": {},
   "outputs": [
    {
     "name": "stdout",
     "output_type": "stream",
     "text": [
      "19\n",
      "166\n",
      "22\n"
     ]
    }
   ],
   "source": [
    "##데이터 불러와서 합치기\n",
    "\n",
    "#train_normal_mode2\n",
    "for i in range(int(NumOfData['train_normal'].iloc[0])):\n",
    "    s5=\"train_normal_mode2_%d=pd.read_csv('./train_normal_mode2_%d',sep=',')\" %(i+1,i+1)\n",
    "    exec(s5)\n",
    "print(i+1)\n",
    "#train_normal_mode3\n",
    "for i in range(int(NumOfData['train_normal'].iloc[1])):\n",
    "    s6=\"train_normal_mode3_%d=pd.read_csv('./train_normal_mode3_%d',sep=',')\" %(i+1,i+1)\n",
    "    exec(s6)\n",
    "print(i+1)\n",
    "#train_abnormal_mode2\n",
    "for i in range(int(NumOfData['train_abnormal'].iloc[0])):\n",
    "    s7=\"train_abnormal_mode2_%d=pd.read_csv('./train_abnormal_mode2_%d',sep=',')\" %(i+1,i+1)\n",
    "    exec(s7)\n",
    "print(i+1)\n",
    "#train_abnormal_mode3\n",
    "for i in range(int(NumOfData['train_abnormal'].iloc[1])):\n",
    "    s8=\"train_abnormal_mode3_%d=pd.read_csv('./train_abnormal_mode3_%d',sep=',')\" %(i+1,i+1)\n",
    "    exec(s8)\n",
    "print(i+1)"
   ]
  },
  {
   "cell_type": "code",
   "execution_count": null,
   "metadata": {},
   "outputs": [],
   "source": [
    "train_normal_mode2_1.describe()"
   ]
  },
  {
   "cell_type": "code",
   "execution_count": null,
   "metadata": {},
   "outputs": [],
   "source": [
    "#전부 합침 train normal mode2\n",
    "\n",
    "for i in range(int(NumOfData['train_normal'].iloc[0])):\n",
    "    if i==0:\n",
    "        train_normal_mode2_all=train_normal_mode2_1\n",
    "        \n",
    "    else:\n",
    "        s1='train_normal_mode2_all=pd.concat([train_normal_mode2_all, train_normal_mode2_%d])'%(i+1)\n",
    "        exec(s1)\n",
    "        \n",
    "print(train_normal_mode2_all)\n",
    "\n",
    "#분석을 해보니 시계열 분석은 크게 의미가 없다고 판단, 변수간 관계를 알아보려함.\n",
    "#normal 전부 합침(mode2,test)\n",
    "\n",
    "for i in range(int(NumOfData['train_abnormal'].iloc[0])):\n",
    "    if i==0:\n",
    "        train_abnormal_mode2_all=train_abnormal_mode2_1\n",
    "        \n",
    "    else:\n",
    "        s1='train_abnormal_mode2_all=pd.concat([train_abnormal_mode2_all, train_abnormal_mode2_%d])'%(i+1)\n",
    "        exec(s1)\n",
    "        \n",
    "print(train_abnormal_mode2_all)\n",
    "\n",
    "#23554\n",
    "#54908"
   ]
  },
  {
   "cell_type": "code",
   "execution_count": null,
   "metadata": {},
   "outputs": [],
   "source": [
    "#전부 합침 train normal mode3\n",
    "\n",
    "for i in range(int(NumOfData['train_normal'].iloc[0])):\n",
    "    if i==0:\n",
    "        train_normal_mode3_all=train_normal_mode3_1\n",
    "        \n",
    "    else:\n",
    "        s1='train_normal_mode3_all=pd.concat([train_normal_mode3_all, train_normal_mode3_%d])'%(i+1)\n",
    "        exec(s1)\n",
    "        \n",
    "print(train_normal_mode3_all)\n",
    "\n",
    "#분석을 해보니 시계열 분석은 크게 의미가 없다고 판단, 변수간 관계를 알아보려함.\n",
    "#normal 전부 합침(mode3,train)\n",
    "\n",
    "for i in range(int(NumOfData['train_abnormal'].iloc[0])):\n",
    "    if i==0:\n",
    "        train_abnormal_mode3_all=train_abnormal_mode3_1\n",
    "        \n",
    "    else:\n",
    "        s1='train_abnormal_mode3_all=pd.concat([train_abnormal_mode3_all, train_normal_mode3_%d])'%(i+1)\n",
    "        exec(s1)\n",
    "        \n",
    "print(train_abnormal_mode3_all)\n",
    "#42229\n",
    "#68821"
   ]
  },
  {
   "cell_type": "code",
   "execution_count": null,
   "metadata": {},
   "outputs": [],
   "source": [
    "#normal/abnormal 비율 맞춤\n",
    "train_abnormal_mode2_all=train_abnormal_mode2_all.sample(frac=0.5, random_state=1)"
   ]
  },
  {
   "cell_type": "code",
   "execution_count": null,
   "metadata": {},
   "outputs": [],
   "source": [
    "train_abnormal_mode3_all=train_abnormal_mode3_all.sample(frac=0.66, random_state=1)"
   ]
  },
  {
   "cell_type": "code",
   "execution_count": null,
   "metadata": {},
   "outputs": [],
   "source": [
    "train_abnormal_mode2_all.describe()"
   ]
  },
  {
   "cell_type": "code",
   "execution_count": null,
   "metadata": {},
   "outputs": [],
   "source": [
    "train_abnormal_mode3_all.describe()"
   ]
  },
  {
   "cell_type": "code",
   "execution_count": null,
   "metadata": {},
   "outputs": [],
   "source": [
    "#normal/abnormal 합침, 섞음\n",
    "train_mode2_dataset=pd.concat([train_abnormal_mode2_all, train_normal_mode2_all])\n",
    "train_mode3_dataset=pd.concat([train_abnormal_mode3_all, train_normal_mode3_all])\n",
    "\n",
    "train_mode2_dataset=train_mode2_dataset.sample(frac=1, random_state=2)\n",
    "train_mode3_dataset=train_mode3_dataset.sample(frac=1, random_state=2)"
   ]
  },
  {
   "cell_type": "code",
   "execution_count": null,
   "metadata": {},
   "outputs": [],
   "source": [
    "print(train_mode2_dataset)"
   ]
  },
  {
   "cell_type": "code",
   "execution_count": null,
   "metadata": {},
   "outputs": [],
   "source": [
    "print(train_mode3_dataset)"
   ]
  },
  {
   "cell_type": "code",
   "execution_count": null,
   "metadata": {},
   "outputs": [],
   "source": [
    "for i in range(len(train_mode2_dataset)):\n",
    "    if train_mode2_dataset.iloc[i,28]=='normal':\n",
    "        train_mode2_dataset.iloc[i,28]=1\n",
    "    elif train_mode2_dataset.iloc[i,28]=='abnormal':\n",
    "        train_mode2_dataset.iloc[i,28]=0\n",
    "        \n",
    "print(train_mode2_dataset)\n"
   ]
  },
  {
   "cell_type": "code",
   "execution_count": null,
   "metadata": {},
   "outputs": [],
   "source": [
    "for i in range(len(train_mode3_dataset)):\n",
    "    if train_mode3_dataset.iloc[i,28]=='normal':\n",
    "        train_mode3_dataset.iloc[i,28]=1\n",
    "    elif train_mode3_dataset.iloc[i,28]=='abnormal':\n",
    "        train_mode3_dataset.iloc[i,28]=0\n",
    "        \n",
    "print(train_mode3_dataset)\n"
   ]
  },
  {
   "cell_type": "code",
   "execution_count": null,
   "metadata": {},
   "outputs": [],
   "source": [
    "x=train_mode2_dataset.pop(\"Fuel mode selected\")\n",
    "x=train_mode2_dataset.pop(\"dateTime\")\n",
    "print(train_mode2_dataset)"
   ]
  },
  {
   "cell_type": "code",
   "execution_count": null,
   "metadata": {},
   "outputs": [],
   "source": [
    "#TC와 Combustion으로 분리\n",
    "train_mode2_TC=pd.DataFrame.copy(train_mode2_dataset)\n",
    "train_mode2_Comb=pd.DataFrame.copy(train_mode2_dataset)\n",
    "\n",
    "\n",
    "\n",
    "print(train_mode2_TC)"
   ]
  },
  {
   "cell_type": "code",
   "execution_count": null,
   "metadata": {},
   "outputs": [],
   "source": [
    "#train_mode2_TC.pop(\"Air temp, TC inlet (TE29)\")\n",
    "#train_mode2_TC.pop(\"Waste Gate Valve position command (CV26)\")\n",
    "#train_mode2_TC.pop(\"LT CW press, Air Cooler Inlet (PT71)\")\n",
    "#train_mode2_TC.pop(\"LT CW temp, Air Cooler Inlet (TE71)\")\n",
    "#train_mode2_TC.pop(\"TC speed\")\n",
    "#train_mode2_TC.pop(\"Base duration gas admission\")\n",
    "#train_mode2_TC.pop(\"Charge Air press, Engine Inlet (PT21X)\") \n",
    "#train_mode2_TC.pop(\"Charge Air temp, Engine Inlet (TE21X)\")\n",
    "#train_mode2_TC.pop(\"Fuel mode selected\")\n",
    "#train_mode2_TC.pop(\"Exh. Gas temp, TC Outlet\")\n",
    "#train_mode2_TC.pop(\"LT CW temp, Air Cooler Inlet (TE71)\")\n",
    "#train_mode2_TC.pop(\"DVT control air press (PT43)\")   \n",
    "#train_mode2_TC.pop(\"Gas press, Engine Inlet (PT87)\")\n",
    "train_mode2_TC.pop(\"Gas temp (TE81)\")\n",
    "#train_mode2_TC.pop(\"HT CW temp, Engine Inlet (TE75)\") \n",
    "#train_mode2_TC.pop(\"HT CW temp, Engine Outlet (TE76)\")\n",
    "#train_mode2_TC.pop(\"LT CW temp, Air Cooler Outlet (TE72)\")\n",
    "    \n",
    "#train_mode2_TC.pop(\"Main bearing temp average\")\n",
    "#train_mode2_TC.pop(\"dateTime\")\n",
    "print(train_mode2_TC)"
   ]
  },
  {
   "cell_type": "code",
   "execution_count": null,
   "metadata": {},
   "outputs": [],
   "source": [
    "train_mode2_Comb=pd.DataFrame.copy(train_mode2_TC)\n",
    "print(train_mode2_Comb)"
   ]
  },
  {
   "cell_type": "code",
   "execution_count": null,
   "metadata": {},
   "outputs": [],
   "source": [
    "#train_mode2_TC=pd.DataFrame.copy(train_mode2_dataset)\n",
    "#train_mode2_TC.pop(\"Waste Gate Valve position command (CV26)\")\n",
    "#train_mode2_TC.pop(\"LT CW press, Air Cooler Inlet (PT71)\")\n",
    "#train_mode2_TC.pop(\"LT CW temp, Air Cooler Inlet (TE71)\")\n",
    "#train_mode2_TC.pop(\"TC speed\")\n",
    "#train_mode2_TC.pop(\"Base duration gas admission\")\n",
    "#train_mode2_TC.pop(\"Charge Air press, Engine Inlet (PT21X)\") \n",
    "#train_mode2_TC.pop(\"Charge Air temp, Engine Inlet (TE21X)\")\n",
    "#train_mode2_TC.pop(\"Fuel mode selected\")\n",
    "#train_mode2_TC.pop(\"FO Pressure Engine Inlet\") \n",
    "#train_mode2_TC.pop(\"Exh. Gas temp, TC Outlet\")\n",
    "#train_mode2_TC.pop(\"LT CW temp, Air Cooler Inlet (TE71)\")\n",
    "#train_mode2_TC.pop(\"DVT control air press (PT43)\")   \n",
    "#train_mode2_TC.pop(\"Gas press, Engine Inlet (PT87)\")\n",
    "train_mode2_TC.pop(\"FO Temperature Engine Inlet\")\n",
    "train_mode2_TC.pop(\"FO Pressure Engine Inlet\")\n",
    "train_mode2_TC.pop(\"IMEP average\")\n",
    "#train_mode2_TC.pop(\"Pmax average\")\n",
    "#train_mode2_TC.pop(\"(Load-b)/(IMEP+1)\")\n",
    "#train_mode2_TC.pop(\"(Pmax average-b)/(IMEP+1)\")\n",
    "#train_mode2_TC.pop(\"Load/(IMEP+1 x Engine speed+1)\")\n",
    "    \n",
    "    \n",
    "\n",
    "#train_mode2_TC.pop(\"HT CW temp, Engine Inlet (TE75)\") \n",
    "#train_mode2_TC.pop(\"HT CW temp, Engine Outlet (TE76)\")\n",
    "#train_mode2_TC.pop(\"LT CW temp, Air Cooler Outlet (TE72)\")\n",
    "    \n",
    "\n",
    "#train_mode2_TC.pop(\"Main bearing temp average\")\n",
    "#train_mode2_TC.pop(\"dateTime\")\n",
    "print(train_mode2_TC)"
   ]
  },
  {
   "cell_type": "code",
   "execution_count": null,
   "metadata": {},
   "outputs": [],
   "source": [
    "train_mode2_TC.to_csv('train_mode2_TC.csv')\n",
    "train_mode2_Comb.to_csv('train_mode2_Comb.csv')"
   ]
  },
  {
   "cell_type": "code",
   "execution_count": null,
   "metadata": {},
   "outputs": [],
   "source": [
    "train_mode2_dataset.to_csv('train_mode2_dataset')"
   ]
  }
 ],
 "metadata": {
  "kernelspec": {
   "display_name": "Python 3",
   "language": "python",
   "name": "python3"
  },
  "language_info": {
   "codemirror_mode": {
    "name": "ipython",
    "version": 3
   },
   "file_extension": ".py",
   "mimetype": "text/x-python",
   "name": "python",
   "nbconvert_exporter": "python",
   "pygments_lexer": "ipython3",
   "version": "3.7.9"
  }
 },
 "nbformat": 4,
 "nbformat_minor": 4
}
