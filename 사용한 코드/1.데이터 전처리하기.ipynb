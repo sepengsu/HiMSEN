{
 "cells": [
  {
   "cell_type": "code",
   "execution_count": 1,
   "metadata": {},
   "outputs": [],
   "source": [
    "import pandas            as pd\n",
    "import numpy             as np\n",
    "import seaborn           as sb\n",
    "import scipy.stats       as sp\n",
    "import matplotlib.pyplot as plt\n",
    "from sklearn.preprocessing import RobustScaler\n",
    "from sklearn.linear_model import LinearRegression\n",
    "from sklearn.metrics import mean_squared_error"
   ]
  },
  {
   "cell_type": "markdown",
   "metadata": {},
   "source": [
    "## 1. 데이터의 열을 test_data의 열을 기준으로 정렬한다"
   ]
  },
  {
   "cell_type": "code",
   "execution_count": 2,
   "metadata": {},
   "outputs": [
    {
     "name": "stdout",
     "output_type": "stream",
     "text": [
      "(4320578, 27) (4244716, 27)\n"
     ]
    }
   ],
   "source": [
    "test_data=pd.read_csv('./1번문제data/test data.csv',sep=',' )\n",
    "train_data=pd.read_csv('./1번문제data/train, validation data.csv',sep=',')\n",
    "train_data= train_data[test_data.columns]\n",
    "print(test_data.shape,train_data.shape)"
   ]
  },
  {
   "cell_type": "code",
   "execution_count": 3,
   "metadata": {},
   "outputs": [],
   "source": [
    "test_data['dateTime']=test_data['dateTime'].astype('datetime64')\n",
    "train_data['dateTime']=train_data['dateTime'].astype('datetime64')"
   ]
  },
  {
   "cell_type": "markdown",
   "metadata": {},
   "source": [
    "## 2. 결측값있는 행 처리하기"
   ]
  },
  {
   "cell_type": "code",
   "execution_count": 4,
   "metadata": {
    "scrolled": true
   },
   "outputs": [
    {
     "name": "stdout",
     "output_type": "stream",
     "text": [
      "0 0\n"
     ]
    }
   ],
   "source": [
    "print(test_data.isnull().sum().sum(),train_data.isnull().sum().sum())"
   ]
  },
  {
   "cell_type": "markdown",
   "metadata": {},
   "source": [
    "결측값이 있는 행이 없다."
   ]
  },
  {
   "cell_type": "markdown",
   "metadata": {},
   "source": [
    "## 3. dateTime(시계열)이 중복된 행 삭제하기"
   ]
  },
  {
   "cell_type": "code",
   "execution_count": 5,
   "metadata": {
    "scrolled": true
   },
   "outputs": [
    {
     "name": "stdout",
     "output_type": "stream",
     "text": [
      "(4320577, 27) (4243631, 27)\n"
     ]
    }
   ],
   "source": [
    "test_data=test_data.drop_duplicates(['dateTime','state'],keep='first')\n",
    "train_data=train_data.drop_duplicates(['dateTime','state'],keep='first')\n",
    "print(test_data.shape,train_data.shape)"
   ]
  },
  {
   "cell_type": "markdown",
   "metadata": {},
   "source": [
    "## 4. dateTime 순으로 정렬하기"
   ]
  },
  {
   "cell_type": "code",
   "execution_count": 6,
   "metadata": {},
   "outputs": [],
   "source": [
    "test_data=test_data.sort_values('dateTime',ascending=True)\n",
    "train_data=train_data.sort_values('dateTime',ascending=True)"
   ]
  },
  {
   "cell_type": "markdown",
   "metadata": {},
   "source": [
    "## 5. 센서 데이터의 특징을 고려하여 이상치 제거하기"
   ]
  },
  {
   "cell_type": "markdown",
   "metadata": {},
   "source": [
    "설명: 센서의 종류를 크게 온도, 압력, 속도로 나타낼 수 있다. 또한 fuel mode selected는 0,1,2,3으로만 이루어저야하고 온도는 절대온도 -273.15보다 커야하고, 압력은 엔진 연소 cycle에 들어가는 센서들은 주로 절대압이므로 0보다 크거나 같아야하고 나머지 주변 구동기기(DVT같은)에 붙은 센서들은 보통 gauage센서를 써서 대기압과의 차이값이므로 음수여도 0으로 바꾸면 된다."
   ]
  },
  {
   "cell_type": "markdown",
   "metadata": {},
   "source": [
    "그리고 IMEP, speed, Pmax average, Engine Speed, Engine Load percent는 0보다 크거나 같아야한다."
   ]
  },
  {
   "cell_type": "markdown",
   "metadata": {},
   "source": [
    "1. 온도 "
   ]
  },
  {
   "cell_type": "code",
   "execution_count": 7,
   "metadata": {},
   "outputs": [],
   "source": [
    "# 각 종류별로 센서 데이터 고려하기\n",
    "# 1. 온도 data\n",
    "Temperature=['Air temp, TC inlet (TE29)','Charge Air temp, Engine Inlet (TE21X)','Exh. Gas temp average','Exh. Gas temp, TC Inlet','Exh. Gas temp, TC Outlet','FO Temperature Engine Inlet','Gas temp (TE81)','HT CW temp, Engine Inlet (TE75)','HT CW temp, Engine Outlet (TE76)','LT CW temp, Air Cooler Inlet (TE71)','LT CW temp, Air Cooler Outlet (TE72)','Main bearing temp average']\n",
    "Standard=-273.15\n",
    "for i in Temperature:\n",
    "    #test\n",
    "    where_error=np.array(np.where(test_data[i].values<Standard))[0]\n",
    "    if len(where_error)>0:\n",
    "        test_data=test_data.drop(index=where_error)\n",
    "        print(i,len(where_error),test_data.shape)\n",
    "    #train\n",
    "    where_error=np.array(np.where(train_data[i].values<Standard))[0]\n",
    "    if len(where_error)>0:\n",
    "        train_data=train_data.drop(index=where_error)\n",
    "        print(i,len(where_error),train_data.shape)      "
   ]
  },
  {
   "cell_type": "markdown",
   "metadata": {},
   "source": [
    "2. 압력"
   ]
  },
  {
   "cell_type": "code",
   "execution_count": 8,
   "metadata": {},
   "outputs": [
    {
     "name": "stdout",
     "output_type": "stream",
     "text": [
      "Gas press, Engine Inlet (PT87) 66 (4320511, 27)\n"
     ]
    }
   ],
   "source": [
    "#incycle\n",
    "Incycle=['Charge Air press, Engine Inlet (PT21X)','FO Pressure Engine Inlet','Gas press, Engine Inlet (PT87)']\n",
    "Standard=0\n",
    "for i in Incycle:\n",
    "    #test\n",
    "    where_error=np.array(np.where(test_data[i].values<Standard))[0]\n",
    "    if len(where_error)>0:\n",
    "        test_data=test_data.drop(index=where_error)\n",
    "        print(i,len(where_error),test_data.shape)\n",
    "    #train\n",
    "    where_error=np.array(np.where(train_data[i].values<Standard))[0]\n",
    "    if len(where_error)>0:\n",
    "        train_data=train_data.drop(index=where_error)\n",
    "        print(i,len(where_error),train_data.shape)  "
   ]
  },
  {
   "cell_type": "markdown",
   "metadata": {},
   "source": [
    "3. 다른 것들"
   ]
  },
  {
   "cell_type": "code",
   "execution_count": 9,
   "metadata": {},
   "outputs": [
    {
     "name": "stdout",
     "output_type": "stream",
     "text": [
      "Engine Load percent 4 (4320507, 27)\n",
      "IMEP average 277 (4320230, 27)\n"
     ]
    }
   ],
   "source": [
    "Else=['Fuel mode selected','Waste Gate Valve position command (CV26)','Base duration gas admission','state','dateTime']\n",
    "Select=['Engine Load percent','Engine Speed 1 (SE11)','IMEP average','Pmax average']\n",
    "Standard=0\n",
    "for i in Select:\n",
    "    #test\n",
    "    where_error=np.array(np.where(test_data[i].values<Standard))[0]\n",
    "    if len(where_error)>0:\n",
    "        test_data=test_data.drop(index=where_error)\n",
    "        print(i,len(where_error),test_data.shape)\n",
    "    #train\n",
    "    where_error=np.array(np.where(train_data[i].values<Standard))[0]\n",
    "    if len(where_error)>0:\n",
    "        train_data=train_data.drop(index=where_error)\n",
    "        print(i,len(where_error),train_data.shape)  "
   ]
  },
  {
   "cell_type": "markdown",
   "metadata": {},
   "source": [
    "4. Fuel mode selected 분석 후 dateTime으로 다시 정렬하기"
   ]
  },
  {
   "cell_type": "code",
   "execution_count": 10,
   "metadata": {},
   "outputs": [
    {
     "name": "stdout",
     "output_type": "stream",
     "text": [
      "[2, 3] [3.0, 2.0]\n"
     ]
    }
   ],
   "source": [
    "print(list(test_data['Fuel mode selected'].unique()),list(train_data['Fuel mode selected'].unique()))\n",
    "test_data=test_data.sort_values('dateTime',ascending=True)\n",
    "test_data.index=np.arange(len(test_data))\n",
    "train_data=train_data.sort_values('dateTime',ascending=True)\n",
    "train_data.index=np.arange(len(train_data))"
   ]
  },
  {
   "cell_type": "markdown",
   "metadata": {},
   "source": [
    "## 6. 선형 보간하기"
   ]
  },
  {
   "cell_type": "markdown",
   "metadata": {},
   "source": [
    "1. 나누기"
   ]
  },
  {
   "cell_type": "code",
   "execution_count": 11,
   "metadata": {},
   "outputs": [],
   "source": [
    "OneSecond=test_data.iloc[1,25]-test_data.iloc[0,25]\n",
    "numofdata=[]"
   ]
  },
  {
   "cell_type": "code",
   "execution_count": 12,
   "metadata": {},
   "outputs": [],
   "source": [
    "#test_data\n",
    "temp=test_data\n",
    "where_something1=np.array(np.where(temp['state'].iloc[1:].values==temp['state'].iloc[:-1].values))[0]\n",
    "where_something2=np.array(np.where(temp['Fuel mode selected'].iloc[1:].values==temp['Fuel mode selected'].iloc[:-1].values))[0]\n",
    "where_temp=list(set(where_something1).intersection(set(where_something2)))\n",
    "where_something3=np.array(np.where((temp['dateTime'].iloc[1:].values-temp['dateTime'].iloc[:-1].values)!=OneSecond))[0]\n",
    "where_something=list(set(where_something3).intersection(set(where_temp)))\n",
    "where_something=sorted(where_something)\n",
    "for i in range(len(where_something)+1):\n",
    "    if i==0:\n",
    "        test_data_1=temp.iloc[:where_something[0]+1,:]\n",
    "    elif i==len(where_something):\n",
    "        s2=\"test_data_%d=temp.iloc[where_something[%d]+1:,:]\" %(i+1,i-1)\n",
    "        exec(s2)\n",
    "    else:\n",
    "        s3=\"test_data_%d=temp.iloc[where_something[%d]+1:where_something[%d]+1,:]\" %(i+1,i-1,i)\n",
    "        exec(s3)\n",
    "numofdata.append(len(where_something)+1) "
   ]
  },
  {
   "cell_type": "code",
   "execution_count": 13,
   "metadata": {},
   "outputs": [],
   "source": [
    "#train_data\n",
    "temp=train_data\n",
    "where_something1=np.array(np.where(temp['state'].iloc[1:].values==temp['state'].iloc[:-1].values))[0]\n",
    "where_something2=np.array(np.where(temp['Fuel mode selected'].iloc[1:].values==temp['Fuel mode selected'].iloc[:-1].values))[0]\n",
    "where_temp=list(set(where_something1).intersection(set(where_something2)))\n",
    "where_something3=np.array(np.where((temp['dateTime'].iloc[1:].values-temp['dateTime'].iloc[:-1].values)!=OneSecond))[0]\n",
    "where_something=list(set(where_something3).intersection(set(where_temp)))\n",
    "where_something=sorted(where_something)\n",
    "for i in range(len(where_something)+1):\n",
    "    if i==0:\n",
    "        train_data_1=temp.iloc[:where_something[0]+1,:]\n",
    "    elif i==len(where_something):\n",
    "        s2=\"train_data_%d=temp.iloc[where_something[%d]+1:,:]\" %(i+1,i-1)\n",
    "        exec(s2)\n",
    "    else:\n",
    "        s3=\"train_data_%d=temp.iloc[where_something[%d]+1:where_something[%d]+1,:]\" %(i+1,i-1,i)\n",
    "        exec(s3)\n",
    "numofdata.append(len(where_something)+1) \n",
    "where_something=0"
   ]
  },
  {
   "cell_type": "code",
   "execution_count": 14,
   "metadata": {},
   "outputs": [
    {
     "data": {
      "text/plain": [
       "[697, 1571]"
      ]
     },
     "execution_count": 14,
     "metadata": {},
     "output_type": "execute_result"
    }
   ],
   "source": [
    "numofdata"
   ]
  },
  {
   "cell_type": "markdown",
   "metadata": {},
   "source": [
    "2. 선형 보간"
   ]
  },
  {
   "cell_type": "code",
   "execution_count": 15,
   "metadata": {},
   "outputs": [],
   "source": [
    "NumOfData=[]\n",
    "n=5\n",
    "Standard=n*OneSecond\n",
    "Columns=test_data.columns"
   ]
  },
  {
   "cell_type": "code",
   "execution_count": 16,
   "metadata": {},
   "outputs": [
    {
     "name": "stdout",
     "output_type": "stream",
     "text": [
      "0\n",
      "10\n",
      "20\n",
      "30\n",
      "40\n",
      "50\n",
      "60\n",
      "70\n",
      "80\n",
      "90\n",
      "100\n",
      "110\n",
      "120\n",
      "130\n",
      "140\n",
      "150\n",
      "160\n",
      "170\n",
      "180\n",
      "190\n",
      "200\n",
      "210\n",
      "220\n",
      "230\n",
      "240\n",
      "250\n",
      "260\n",
      "270\n",
      "280\n",
      "290\n",
      "300\n",
      "310\n",
      "320\n",
      "330\n",
      "340\n",
      "350\n",
      "360\n",
      "370\n",
      "380\n",
      "390\n",
      "400\n",
      "410\n",
      "420\n",
      "430\n",
      "440\n",
      "450\n",
      "460\n",
      "470\n",
      "480\n",
      "490\n",
      "500\n",
      "510\n",
      "520\n",
      "530\n",
      "540\n",
      "550\n",
      "560\n",
      "570\n",
      "580\n",
      "590\n",
      "600\n",
      "610\n",
      "620\n",
      "630\n",
      "640\n",
      "650\n",
      "660\n",
      "670\n",
      "680\n",
      "690\n"
     ]
    }
   ],
   "source": [
    "for i in range(numofdata[0]-1):\n",
    "    s1=\"First=test_data_%d\" %(i+1)\n",
    "    s2=\"Second=test_data_%d\"%(i+2)\n",
    "    exec(s1)\n",
    "    exec(s2)\n",
    "    diff=Second['dateTime'].iloc[0]-First['dateTime'].iloc[-1]\n",
    "    if diff<=Standard:\n",
    "         #m-1행짜리 빈 행 만들기\n",
    "        NewData=pd.DataFrame(columns=Columns)\n",
    "        for j in range(1,int(diff/OneSecond)):\n",
    "            NewData=NewData.append({},ignore_index=True)\n",
    "            NewData['dateTime'].iloc[j-1]=First['dateTime'].iloc[-1]+j*OneSecond\n",
    "            NewData['Fuel mode selected'].iloc[j-1]=First['Fuel mode selected'].iloc[-1]\n",
    "            NewData['state'].iloc[j-1]=First['state'].iloc[-1]\n",
    "        # 데이터 합치기- First,NewData, Second순\n",
    "        TempData=pd.concat([First,NewData],axis=0)\n",
    "        TempData=pd.concat([TempData,Second],axis=0)\n",
    "        TempData[Columns[:-2]]=TempData[Columns[:-2]].astype('float')\n",
    "        TempData.index=np.arange(len(TempData))\n",
    "        TempData=TempData.interpolate(method='linear')\n",
    "        #First데이터는 빈 데이터로 Second데이터이름으로 변경하기 \n",
    "        s3=\"test_data_%d=pd.DataFrame()\" %(i+1)\n",
    "        s4=\"test_data_%d=TempData\" %(i+2) # Second데이터= TempData\n",
    "        exec(s3)\n",
    "        exec(s4)\n",
    "    if i%10==0:\n",
    "        print(i)\n",
    "\n",
    "#개수 세기\n",
    "Num=0\n",
    "for i in range(numofdata[0]):\n",
    "    s5=\"temp=test_data_%d\" %(i+1)\n",
    "    exec(s5)\n",
    "    if temp.shape!=(0,0):\n",
    "        Num+=1\n",
    "        s6=\"test_data_%d=temp\" %(Num)\n",
    "        exec(s6)\n",
    "NumOfData.append(Num)"
   ]
  },
  {
   "cell_type": "code",
   "execution_count": 17,
   "metadata": {},
   "outputs": [
    {
     "name": "stdout",
     "output_type": "stream",
     "text": [
      "0\n",
      "10\n",
      "20\n",
      "30\n",
      "40\n",
      "50\n",
      "60\n",
      "70\n",
      "80\n",
      "90\n",
      "100\n",
      "110\n",
      "120\n",
      "130\n",
      "140\n",
      "150\n",
      "160\n",
      "170\n",
      "180\n",
      "190\n",
      "200\n",
      "210\n",
      "220\n",
      "230\n",
      "240\n",
      "250\n",
      "260\n",
      "270\n",
      "280\n",
      "290\n",
      "300\n",
      "310\n",
      "320\n",
      "330\n",
      "340\n",
      "350\n",
      "360\n",
      "370\n",
      "380\n",
      "390\n",
      "400\n",
      "410\n",
      "420\n",
      "430\n",
      "440\n",
      "450\n",
      "460\n",
      "470\n",
      "480\n",
      "490\n",
      "500\n",
      "510\n",
      "520\n",
      "530\n",
      "540\n",
      "550\n",
      "560\n",
      "570\n",
      "580\n",
      "590\n",
      "600\n",
      "610\n",
      "620\n",
      "630\n",
      "640\n",
      "650\n",
      "660\n",
      "670\n",
      "680\n",
      "690\n",
      "700\n",
      "710\n",
      "720\n",
      "730\n",
      "740\n",
      "750\n",
      "760\n",
      "770\n",
      "780\n",
      "790\n",
      "800\n",
      "810\n",
      "820\n",
      "830\n",
      "840\n",
      "850\n",
      "860\n",
      "870\n",
      "880\n",
      "890\n",
      "900\n",
      "910\n",
      "920\n",
      "930\n",
      "940\n",
      "950\n",
      "960\n",
      "970\n",
      "980\n",
      "990\n",
      "1000\n",
      "1010\n",
      "1020\n",
      "1030\n",
      "1040\n",
      "1050\n",
      "1060\n",
      "1070\n",
      "1080\n",
      "1090\n",
      "1100\n",
      "1110\n",
      "1120\n",
      "1130\n",
      "1140\n",
      "1150\n",
      "1160\n",
      "1170\n",
      "1180\n",
      "1190\n",
      "1200\n",
      "1210\n",
      "1220\n",
      "1230\n",
      "1240\n",
      "1250\n",
      "1260\n",
      "1270\n",
      "1280\n",
      "1290\n",
      "1300\n",
      "1310\n",
      "1320\n",
      "1330\n",
      "1340\n",
      "1350\n",
      "1360\n",
      "1370\n",
      "1380\n",
      "1390\n",
      "1400\n",
      "1410\n",
      "1420\n",
      "1430\n",
      "1440\n",
      "1450\n",
      "1460\n",
      "1470\n",
      "1480\n",
      "1490\n",
      "1500\n",
      "1510\n",
      "1520\n",
      "1530\n",
      "1540\n",
      "1550\n",
      "1560\n"
     ]
    }
   ],
   "source": [
    "for i in range(numofdata[1]-1):\n",
    "    s1=\"First=train_data_%d\" %(i+1)\n",
    "    s2=\"Second=train_data_%d\"%(i+2)\n",
    "    exec(s1)\n",
    "    exec(s2)\n",
    "    diff=Second['dateTime'].iloc[0]-First['dateTime'].iloc[-1]\n",
    "    if diff<=Standard:\n",
    "         #m-1행짜리 빈 행 만들기\n",
    "        NewData=pd.DataFrame(columns=Columns)\n",
    "        for j in range(1,int(diff/OneSecond)):\n",
    "            NewData=NewData.append({},ignore_index=True)\n",
    "            NewData['dateTime'].iloc[j-1]=First['dateTime'].iloc[-1]+j*OneSecond\n",
    "            NewData['Fuel mode selected'].iloc[j-1]=First['Fuel mode selected'].iloc[-1]\n",
    "            NewData['state'].iloc[j-1]=First['state'].iloc[-1]\n",
    "        # 데이터 합치기- First,NewData, Second순\n",
    "        TempData=pd.concat([First,NewData],axis=0)\n",
    "        TempData=pd.concat([TempData,Second],axis=0)\n",
    "        TempData[Columns[:-2]]=TempData[Columns[:-2]].astype('float')\n",
    "        TempData.index=np.arange(len(TempData))\n",
    "        TempData=TempData.interpolate(method='linear')\n",
    "        #First데이터는 빈 데이터로 Second데이터이름으로 변경하기 \n",
    "        s3=\"train_data_%d=pd.DataFrame()\" %(i+1)\n",
    "        s4=\"train_data_%d=TempData\" %(i+2) # Second데이터= TempData\n",
    "        exec(s3)\n",
    "        exec(s4)\n",
    "    if i%10==0:\n",
    "        print(i)\n",
    "\n",
    "#개수 세기\n",
    "Num=0\n",
    "for i in range(numofdata[1]):\n",
    "    s5=\"temp=train_data_%d\" %(i+1)\n",
    "    exec(s5)\n",
    "    if temp.shape!=(0,0):\n",
    "        Num+=1\n",
    "        s6=\"train_data_%d=temp\" %(Num)\n",
    "        exec(s6)\n",
    "NumOfData.append(Num)"
   ]
  },
  {
   "cell_type": "code",
   "execution_count": 18,
   "metadata": {},
   "outputs": [
    {
     "data": {
      "text/plain": [
       "[40, 881]"
      ]
     },
     "execution_count": 18,
     "metadata": {},
     "output_type": "execute_result"
    }
   ],
   "source": [
    "NumOfData"
   ]
  },
  {
   "cell_type": "markdown",
   "metadata": {},
   "source": [
    "3. 데이터 합치기"
   ]
  },
  {
   "cell_type": "code",
   "execution_count": 19,
   "metadata": {},
   "outputs": [],
   "source": [
    "Data=pd.DataFrame()\n",
    "#test data\n",
    "for i in range(NumOfData[0]):\n",
    "    s1=\"temp=test_data_%d\" %(i+1)\n",
    "    exec(s1)\n",
    "    Data=pd.concat([Data,temp])\n",
    "test_data=Data\n",
    "\n",
    "Data=pd.DataFrame()\n",
    "#train data\n",
    "for i in range(NumOfData[1]):\n",
    "    s1=\"temp=train_data_%d\" %(i+1)\n",
    "    exec(s1)\n",
    "    Data=pd.concat([Data,temp])\n",
    "train_data=Data"
   ]
  },
  {
   "cell_type": "code",
   "execution_count": 20,
   "metadata": {},
   "outputs": [],
   "source": [
    "test_data[Columns[:-2]]=test_data[Columns[:-2]].astype('float')\n",
    "train_data[Columns[:-2]]=train_data[Columns[:-2]].astype('float')\n",
    "test_data['dateTime']=test_data['dateTime'].astype('datetime64')\n",
    "train_data['dateTime']=train_data['dateTime'].astype('datetime64')\n",
    "test_data.index=np.arange(len(test_data))\n",
    "train_data.index=np.arange(len(train_data))"
   ]
  },
  {
   "cell_type": "markdown",
   "metadata": {},
   "source": [
    "## 7. mode2, mode3, 정상 고장으로 나누기"
   ]
  },
  {
   "cell_type": "code",
   "execution_count": 21,
   "metadata": {
    "scrolled": true
   },
   "outputs": [
    {
     "name": "stdout",
     "output_type": "stream",
     "text": [
      "True\n",
      "True\n",
      "True\n",
      "True\n"
     ]
    }
   ],
   "source": [
    "# test data\n",
    "test_mode2=test_data[test_data['Fuel mode selected']==2].sort_values('dateTime',ascending=True)\n",
    "test_mode3=test_data[test_data['Fuel mode selected']==3].sort_values('dateTime',ascending=True)\n",
    "print(np.all(test_mode2['Fuel mode selected']==2))\n",
    "print(np.all(test_mode3['Fuel mode selected']==3))\n",
    "#train data\n",
    "train_mode2=train_data[train_data['Fuel mode selected']==2].sort_values('dateTime',ascending=True)\n",
    "train_mode3=train_data[train_data['Fuel mode selected']==3].sort_values('dateTime',ascending=True)\n",
    "print(np.all(train_mode2['Fuel mode selected']==2))\n",
    "print(np.all(train_mode3['Fuel mode selected']==3))"
   ]
  },
  {
   "cell_type": "code",
   "execution_count": 22,
   "metadata": {},
   "outputs": [
    {
     "name": "stdout",
     "output_type": "stream",
     "text": [
      "True\n",
      "True\n",
      "True\n",
      "True\n",
      "True\n",
      "True\n",
      "True\n",
      "True\n"
     ]
    }
   ],
   "source": [
    "test_normal_mode2=test_mode2[test_mode2['state']=='normal'].sort_values('dateTime',ascending=True)\n",
    "test_abnormal_mode2=test_mode2[test_mode2['state']=='abnormal'].sort_values('dateTime',ascending=True)\n",
    "test_normal_mode3=test_mode3[test_mode3['state']=='normal'].sort_values('dateTime',ascending=True)\n",
    "test_abnormal_mode3=test_mode3[test_mode3['state']=='abnormal'].sort_values('dateTime',ascending=True)\n",
    "\n",
    "train_normal_mode2=train_mode2[train_mode2['state']=='normal'].sort_values('dateTime',ascending=True)\n",
    "train_abnormal_mode2=train_mode2[train_mode2['state']=='abnormal'].sort_values('dateTime',ascending=True)\n",
    "train_normal_mode3=train_mode3[train_mode3['state']=='normal'].sort_values('dateTime',ascending=True)\n",
    "train_abnormal_mode3=train_mode3[train_mode3['state']=='abnormal'].sort_values('dateTime',ascending=True)\n",
    "\n",
    "print(np.all(test_normal_mode2['state']=='normal'))\n",
    "print(np.all(test_normal_mode3['state']=='normal'))\n",
    "print(np.all(test_abnormal_mode2['state']=='abnormal'))\n",
    "print(np.all(test_abnormal_mode3['state']=='abnormal'))\n",
    "print(np.all(train_normal_mode2['state']=='normal'))\n",
    "print(np.all(train_normal_mode3['state']=='normal'))\n",
    "print(np.all(train_abnormal_mode2['state']=='abnormal'))\n",
    "print(np.all(train_abnormal_mode3['state']=='abnormal'))"
   ]
  },
  {
   "cell_type": "markdown",
   "metadata": {},
   "source": [
    "## 7.  새 변수 만들기"
   ]
  },
  {
   "cell_type": "code",
   "execution_count": 23,
   "metadata": {},
   "outputs": [],
   "source": [
    "Columns=list(test_data.columns[:12])+list(test_data.columns[13:-2])+['(Load-b)/(IMEP+1)','(Pmax average-b)/(IMEP+1)','Load/(IMEP+1 x Engine speed+1)']+list(test_data.columns[-2:])+[test_data.columns[12]]"
   ]
  },
  {
   "cell_type": "markdown",
   "metadata": {},
   "source": [
    "1. (Load-b)/(IMEP+1)"
   ]
  },
  {
   "cell_type": "code",
   "execution_count": 24,
   "metadata": {},
   "outputs": [
    {
     "name": "stdout",
     "output_type": "stream",
     "text": [
      "-4.217958269249104 0.8132993772700815\n"
     ]
    },
    {
     "data": {
      "image/png": "[encoded data removed]",
      "text/plain": [
       "<Figure size 432x288 with 1 Axes>"
      ]
     },
     "metadata": {
      "needs_background": "light"
     },
     "output_type": "display_data"
    }
   ],
   "source": [
    "#test_data_mode2\n",
    "Line= LinearRegression()\n",
    "temp=test_normal_mode2\n",
    "x=pd.Series(temp['IMEP average'].values+1)\n",
    "y=temp['Engine Load percent']\n",
    "Line.fit(x.values.reshape(-1,1), y)\n",
    "print(Line.intercept_,mean_squared_error(y,Line.predict(x.values.reshape(-1,1)))**0.5)\n",
    "plt.plot(x, y, 'o')\n",
    "plt.plot(x,Line.predict(x.values.reshape(-1,1)))\n",
    "plt.show()\n",
    "\n",
    "\n",
    "#test_normal_mode2\n",
    "temp=test_normal_mode2\n",
    "test_normal_mode2['(Load-b)/(IMEP+1)']=(temp['Engine Load percent'].values-Line.intercept_)/(temp['IMEP average'].values+1)\n",
    "\n",
    "\n",
    "#test_abnormal_mode2\n",
    "temp=test_abnormal_mode2\n",
    "test_abnormal_mode2['(Load-b)/(IMEP+1)']=(temp['Engine Load percent'].values-Line.intercept_)/(temp['IMEP average'].values+1)\n"
   ]
  },
  {
   "cell_type": "code",
   "execution_count": 25,
   "metadata": {},
   "outputs": [
    {
     "name": "stdout",
     "output_type": "stream",
     "text": [
      "-10.545659223570553 0.4732925095432746\n"
     ]
    },
    {
     "data": {
      "image/png": "[encoded data removed]",
      "text/plain": [
       "<Figure size 432x288 with 1 Axes>"
      ]
     },
     "metadata": {
      "needs_background": "light"
     },
     "output_type": "display_data"
    }
   ],
   "source": [
    "#test_data_mode3\n",
    "Line= LinearRegression()\n",
    "temp=test_normal_mode3\n",
    "x=pd.Series(temp['IMEP average'].values+1)\n",
    "y=temp['Engine Load percent']\n",
    "Line.fit(x.values.reshape(-1,1), y)\n",
    "print(Line.intercept_,mean_squared_error(y,Line.predict(x.values.reshape(-1,1)))**0.5)\n",
    "plt.plot(x, y, 'o')\n",
    "plt.plot(x,Line.predict(x.values.reshape(-1,1)))\n",
    "plt.show()\n",
    "\n",
    "\n",
    "#test_normal_mode3\n",
    "temp=test_normal_mode3\n",
    "test_normal_mode3['(Load-b)/(IMEP+1)']=(temp['Engine Load percent'].values-Line.intercept_)/(temp['IMEP average'].values+1)\n",
    "\n",
    "\n",
    "#test_abnormal_mode3\n",
    "temp=test_abnormal_mode3\n",
    "test_abnormal_mode3['(Load-b)/(IMEP+1)']=(temp['Engine Load percent'].values-Line.intercept_)/(temp['IMEP average'].values+1)"
   ]
  },
  {
   "cell_type": "markdown",
   "metadata": {},
   "source": [
    "train"
   ]
  },
  {
   "cell_type": "code",
   "execution_count": 26,
   "metadata": {},
   "outputs": [
    {
     "name": "stdout",
     "output_type": "stream",
     "text": [
      "-6.7597289710597295 0.17382697265991742\n"
     ]
    },
    {
     "data": {
      "image/png": "[encoded data removed]",
      "text/plain": [
       "<Figure size 432x288 with 1 Axes>"
      ]
     },
     "metadata": {
      "needs_background": "light"
     },
     "output_type": "display_data"
    }
   ],
   "source": [
    "#train_data_mode2\n",
    "Line= LinearRegression()\n",
    "temp=train_normal_mode2\n",
    "x=pd.Series(temp['IMEP average'].values+1)\n",
    "y=temp['Engine Load percent']\n",
    "Line.fit(x.values.reshape(-1,1), y)\n",
    "print(Line.intercept_,mean_squared_error(y,Line.predict(x.values.reshape(-1,1)))**0.5)\n",
    "plt.plot(x, y, 'o')\n",
    "plt.plot(x,Line.predict(x.values.reshape(-1,1)))\n",
    "plt.show()\n",
    "\n",
    "\n",
    "#train_normal_mode2\n",
    "temp=train_normal_mode2\n",
    "train_normal_mode2['(Load-b)/(IMEP+1)']=(temp['Engine Load percent'].values-Line.intercept_)/(temp['IMEP average'].values+1)\n",
    "\n",
    "\n",
    "#train_abnormal_mode2\n",
    "temp=train_abnormal_mode2\n",
    "train_abnormal_mode2['(Load-b)/(IMEP+1)']=(temp['Engine Load percent'].values-Line.intercept_)/(temp['IMEP average'].values+1)"
   ]
  },
  {
   "cell_type": "code",
   "execution_count": 27,
   "metadata": {},
   "outputs": [
    {
     "name": "stdout",
     "output_type": "stream",
     "text": [
      "-10.325126960909728 0.17648624654768197\n"
     ]
    },
    {
     "data": {
      "image/png": "[encoded data removed]",
      "text/plain": [
       "<Figure size 432x288 with 1 Axes>"
      ]
     },
     "metadata": {
      "needs_background": "light"
     },
     "output_type": "display_data"
    }
   ],
   "source": [
    "#train_data_mode3\n",
    "Line= LinearRegression()\n",
    "temp=train_normal_mode3\n",
    "x=pd.Series(temp['IMEP average'].values+1)\n",
    "y=temp['Engine Load percent']\n",
    "Line.fit(x.values.reshape(-1,1), y)\n",
    "print(Line.intercept_,mean_squared_error(y,Line.predict(x.values.reshape(-1,1)))**0.5)\n",
    "plt.plot(x, y, 'o')\n",
    "plt.plot(x,Line.predict(x.values.reshape(-1,1)))\n",
    "plt.show()\n",
    "\n",
    "\n",
    "#train_normal_mode3\n",
    "temp=train_normal_mode3\n",
    "train_normal_mode3['(Load-b)/(IMEP+1)']=(temp['Engine Load percent'].values-Line.intercept_)/(temp['IMEP average'].values+1)\n",
    "\n",
    "\n",
    "#train_abnormal_mode3\n",
    "temp=train_abnormal_mode3\n",
    "train_abnormal_mode3['(Load-b)/(IMEP+1)']=(temp['Engine Load percent'].values-Line.intercept_)/(temp['IMEP average'].values+1)"
   ]
  },
  {
   "cell_type": "markdown",
   "metadata": {},
   "source": [
    "2. (Pmax average-b)/(IMEP+1)"
   ]
  },
  {
   "cell_type": "code",
   "execution_count": 28,
   "metadata": {},
   "outputs": [
    {
     "name": "stdout",
     "output_type": "stream",
     "text": [
      "-6.921644626469487 2.7371345692520515\n"
     ]
    },
    {
     "data": {
      "image/png": "[encoded data removed]",
      "text/plain": [
       "<Figure size 432x288 with 1 Axes>"
      ]
     },
     "metadata": {
      "needs_background": "light"
     },
     "output_type": "display_data"
    }
   ],
   "source": [
    "#test_data_mode2\n",
    "Line= LinearRegression()\n",
    "temp=test_normal_mode2\n",
    "x=pd.Series(temp['IMEP average'].values+1)\n",
    "y=temp['Pmax average']\n",
    "Line.fit(x.values.reshape(-1,1), y)\n",
    "print(Line.intercept_,mean_squared_error(y,Line.predict(x.values.reshape(-1,1)))**0.5)\n",
    "plt.plot(x, y, 'o')\n",
    "plt.plot(x,Line.predict(x.values.reshape(-1,1)))\n",
    "plt.show()\n",
    "\n",
    "#test_normal_mode2\n",
    "temp=test_normal_mode2\n",
    "test_normal_mode2['(Pmax average-b)/(IMEP+1)']=(temp['Pmax average'].values-Line.intercept_)/(temp['IMEP average'].values+1)\n",
    "\n",
    "\n",
    "#test_abnormal_mode2\n",
    "temp=test_abnormal_mode2\n",
    "test_abnormal_mode2['(Pmax average-b)/(IMEP+1)']=(temp['Pmax average'].values-Line.intercept_)/(temp['IMEP average'].values+1)"
   ]
  },
  {
   "cell_type": "code",
   "execution_count": 29,
   "metadata": {},
   "outputs": [
    {
     "name": "stdout",
     "output_type": "stream",
     "text": [
      "-16.275556858838513 2.3117753652768545\n"
     ]
    },
    {
     "data": {
      "image/png": "[encoded data removed]",
      "text/plain": [
       "<Figure size 432x288 with 1 Axes>"
      ]
     },
     "metadata": {
      "needs_background": "light"
     },
     "output_type": "display_data"
    }
   ],
   "source": [
    "#test_data_mode3\n",
    "Line= LinearRegression()\n",
    "temp=test_normal_mode3\n",
    "x=pd.Series(temp['IMEP average'].values+1)\n",
    "y=temp['Pmax average']\n",
    "Line.fit(x.values.reshape(-1,1), y)\n",
    "print(Line.intercept_,mean_squared_error(y,Line.predict(x.values.reshape(-1,1)))**0.5)\n",
    "plt.plot(x, y, 'o')\n",
    "plt.plot(x,Line.predict(x.values.reshape(-1,1)))\n",
    "plt.show()\n",
    "\n",
    "\n",
    "#test_normal_mode3\n",
    "temp=test_normal_mode3\n",
    "test_normal_mode3['(Pmax average-b)/(IMEP+1)']=(temp['Pmax average'].values-Line.intercept_)/(temp['IMEP average'].values+1)\n",
    "\n",
    "\n",
    "#test_abnormal_mode3\n",
    "temp=test_abnormal_mode3\n",
    "test_abnormal_mode3['(Pmax average-b)/(IMEP+1)']=(temp['Pmax average'].values-Line.intercept_)/(temp['IMEP average'].values+1)"
   ]
  },
  {
   "cell_type": "markdown",
   "metadata": {},
   "source": [
    "train"
   ]
  },
  {
   "cell_type": "code",
   "execution_count": 30,
   "metadata": {},
   "outputs": [
    {
     "name": "stdout",
     "output_type": "stream",
     "text": [
      "-26.071904935768828 0.8194088208454341\n"
     ]
    },
    {
     "data": {
      "image/png": "[encoded data removed]",
      "text/plain": [
       "<Figure size 432x288 with 1 Axes>"
      ]
     },
     "metadata": {
      "needs_background": "light"
     },
     "output_type": "display_data"
    }
   ],
   "source": [
    "#train_data_mode2\n",
    "Line= LinearRegression()\n",
    "temp=train_normal_mode2\n",
    "x=pd.Series(temp['IMEP average'].values+1)\n",
    "y=temp['Pmax average']\n",
    "Line.fit(x.values.reshape(-1,1), y)\n",
    "print(Line.intercept_,mean_squared_error(y,Line.predict(x.values.reshape(-1,1)))**0.5)\n",
    "plt.plot(x, y, 'o')\n",
    "plt.plot(x,Line.predict(x.values.reshape(-1,1)))\n",
    "plt.show()\n",
    "\n",
    "\n",
    "#train_normal_mode2\n",
    "temp=train_normal_mode2\n",
    "train_normal_mode2['(Pmax average-b)/(IMEP+1)']=(temp['Pmax average'].values-Line.intercept_)/(temp['IMEP average'].values+1)\n",
    "\n",
    "\n",
    "#train_abnormal_mode2\n",
    "temp=train_abnormal_mode2\n",
    "train_abnormal_mode2['(Pmax average-b)/(IMEP+1)']=(temp['Pmax average'].values-Line.intercept_)/(temp['IMEP average'].values+1)"
   ]
  },
  {
   "cell_type": "code",
   "execution_count": 31,
   "metadata": {},
   "outputs": [
    {
     "name": "stdout",
     "output_type": "stream",
     "text": [
      "-18.786972052957566 1.7902234679331561\n"
     ]
    },
    {
     "data": {
      "image/png": "[encoded data removed]",
      "text/plain": [
       "<Figure size 432x288 with 1 Axes>"
      ]
     },
     "metadata": {
      "needs_background": "light"
     },
     "output_type": "display_data"
    }
   ],
   "source": [
    "#train_data_mode3\n",
    "Line= LinearRegression()\n",
    "temp=train_normal_mode3\n",
    "x=pd.Series(temp['IMEP average'].values+1)\n",
    "y=temp['Pmax average']\n",
    "Line.fit(x.values.reshape(-1,1), y)\n",
    "print(Line.intercept_,mean_squared_error(y,Line.predict(x.values.reshape(-1,1)))**0.5)\n",
    "plt.plot(x, y, 'o')\n",
    "plt.plot(x,Line.predict(x.values.reshape(-1,1)))\n",
    "plt.show()\n",
    "\n",
    "\n",
    "#train_normal_mode3\n",
    "temp=train_normal_mode3\n",
    "train_normal_mode3['(Pmax average-b)/(IMEP+1)']=(temp['Pmax average'].values-Line.intercept_)/(temp['IMEP average'].values+1)\n",
    "\n",
    "\n",
    "#train_abnormal_mode3\n",
    "temp=train_abnormal_mode3\n",
    "train_abnormal_mode3['(Pmax average-b)/(IMEP+1)']=(temp['Pmax average'].values-Line.intercept_)/(temp['IMEP average'].values+1)"
   ]
  },
  {
   "cell_type": "markdown",
   "metadata": {},
   "source": [
    "3. Load/(IMEP+1 x Engine speed+1)"
   ]
  },
  {
   "cell_type": "code",
   "execution_count": 32,
   "metadata": {},
   "outputs": [],
   "source": [
    "col='Load/(IMEP+1 x Engine speed+1)'"
   ]
  },
  {
   "cell_type": "code",
   "execution_count": 33,
   "metadata": {},
   "outputs": [],
   "source": [
    "temp=test_normal_mode2\n",
    "temp[col]=(temp['Engine Load percent'].values)/((temp['IMEP average'].values+1)*(temp['Engine Speed 1 (SE11)'].values+1))\n",
    "test_normal_mode2=temp\n",
    "\n",
    "temp=test_normal_mode3\n",
    "temp[col]=(temp['Engine Load percent'].values)/((temp['IMEP average'].values+1)*(temp['Engine Speed 1 (SE11)'].values+1))\n",
    "test_normal_mode3=temp\n",
    "\n",
    "\n",
    "temp=test_abnormal_mode2\n",
    "temp[col]=(temp['Engine Load percent'].values)/((temp['IMEP average'].values+1)*(temp['Engine Speed 1 (SE11)'].values+1))\n",
    "test_abnormal_mode2=temp\n",
    "\n",
    "temp=test_abnormal_mode3\n",
    "temp[col]=(temp['Engine Load percent'].values)/((temp['IMEP average'].values+1)*(temp['Engine Speed 1 (SE11)'].values+1))\n",
    "test_abnormal_mode3=temp"
   ]
  },
  {
   "cell_type": "code",
   "execution_count": 34,
   "metadata": {},
   "outputs": [],
   "source": [
    "temp=train_normal_mode2\n",
    "temp[col]=(temp['Engine Load percent'].values)/((temp['IMEP average'].values+1)*(temp['Engine Speed 1 (SE11)'].values+1))\n",
    "train_normal_mode2=temp\n",
    "\n",
    "\n",
    "temp=train_normal_mode3\n",
    "temp[col]=(temp['Engine Load percent'].values)/((temp['IMEP average'].values+1)*(temp['Engine Speed 1 (SE11)'].values+1))\n",
    "train_normal_mode3=temp\n",
    "\n",
    "\n",
    "temp=train_abnormal_mode2\n",
    "temp[col]=(temp['Engine Load percent'].values)/((temp['IMEP average'].values+1)*(temp['Engine Speed 1 (SE11)'].values+1))\n",
    "train_abnormal_mode2=temp\n",
    "\n",
    "\n",
    "temp=train_abnormal_mode3\n",
    "temp[col]=(temp['Engine Load percent'].values)/((temp['IMEP average'].values+1)*(temp['Engine Speed 1 (SE11)'].values+1))\n",
    "train_abnormal_mode3=temp"
   ]
  },
  {
   "cell_type": "markdown",
   "metadata": {},
   "source": [
    "## 7. 다시 정렬하기"
   ]
  },
  {
   "cell_type": "code",
   "execution_count": 35,
   "metadata": {},
   "outputs": [
    {
     "name": "stdout",
     "output_type": "stream",
     "text": [
      "(1503235, 30) (1130668, 30) (23554, 30) (54908, 30)\n",
      "(1065094, 30) (622556, 30) (1416248, 30) (2750323, 30)\n"
     ]
    }
   ],
   "source": [
    "#Columns로 정렬\n",
    "test_normal_mode2=test_normal_mode2[Columns].sort_values('dateTime',ascending=True)\n",
    "test_normal_mode3=test_normal_mode3[Columns].sort_values('dateTime',ascending=True)\n",
    "test_abnormal_mode2=test_abnormal_mode2[Columns].sort_values('dateTime',ascending=True)\n",
    "test_abnormal_mode3=test_abnormal_mode3[Columns].sort_values('dateTime',ascending=True)\n",
    "train_normal_mode2=train_normal_mode2[Columns].sort_values('dateTime',ascending=True)\n",
    "train_normal_mode3=train_normal_mode3[Columns].sort_values('dateTime',ascending=True)\n",
    "train_abnormal_mode2=train_abnormal_mode2[Columns].sort_values('dateTime',ascending=True)\n",
    "train_abnormal_mode3=train_abnormal_mode3[Columns].sort_values('dateTime',ascending=True)\n",
    "print(test_normal_mode2.shape, test_abnormal_mode2.shape,train_normal_mode2.shape,train_abnormal_mode2.shape)\n",
    "print(test_normal_mode3.shape, test_abnormal_mode3.shape,train_normal_mode3.shape,train_abnormal_mode3.shape)"
   ]
  },
  {
   "cell_type": "markdown",
   "metadata": {},
   "source": [
    "## 8. 정규화하기"
   ]
  },
  {
   "cell_type": "code",
   "execution_count": 36,
   "metadata": {},
   "outputs": [
    {
     "name": "stdout",
     "output_type": "stream",
     "text": [
      "(2633903, 27) (2633903, 30)\n",
      "(1687650, 27) (1687650, 30)\n",
      "(78462, 27) (78462, 30)\n",
      "(4166571, 27) (4166571, 30)\n"
     ]
    }
   ],
   "source": [
    "Test_mode2=pd.concat([test_normal_mode2,test_abnormal_mode2]).sort_values('dateTime',ascending=True)\n",
    "Test_mode3=pd.concat([test_normal_mode3,test_abnormal_mode3]).sort_values('dateTime',ascending=True)\n",
    "\n",
    "Train_mode2=pd.concat([train_normal_mode2,train_abnormal_mode2]).sort_values('dateTime',ascending=True)\n",
    "Train_mode3=pd.concat([train_normal_mode3,train_abnormal_mode3]).sort_values('dateTime',ascending=True)\n",
    "print(test_mode2.shape,Test_mode2.shape)\n",
    "print(test_mode3.shape,Test_mode3.shape)\n",
    "print(train_mode2.shape,Train_mode2.shape)\n",
    "print(train_mode3.shape,Train_mode3.shape)\n",
    "test_mode2=Test_mode2\n",
    "test_mode3=Test_mode3\n",
    "train_mode2=Train_mode2\n",
    "train_mode3=Train_mode3"
   ]
  },
  {
   "cell_type": "code",
   "execution_count": 37,
   "metadata": {},
   "outputs": [],
   "source": [
    "Scale_col=Columns[:-3]\n",
    "test_mode2[Scale_col]= RobustScaler().fit_transform(test_mode2[Scale_col])\n",
    "test_mode3[Scale_col]= RobustScaler().fit_transform(test_mode3[Scale_col])\n",
    "\n",
    "train_mode2[Scale_col]= RobustScaler().fit_transform(train_mode2[Scale_col])\n",
    "train_mode3[Scale_col]= RobustScaler().fit_transform(train_mode3[Scale_col])"
   ]
  },
  {
   "cell_type": "code",
   "execution_count": 38,
   "metadata": {},
   "outputs": [
    {
     "name": "stdout",
     "output_type": "stream",
     "text": [
      "True\n",
      "True\n",
      "True\n",
      "True\n",
      "True\n",
      "True\n",
      "True\n",
      "True\n"
     ]
    }
   ],
   "source": [
    "test_normal_mode2=test_mode2[test_mode2['state']=='normal'].sort_values('dateTime',ascending=True)\n",
    "test_abnormal_mode2=test_mode2[test_mode2['state']=='abnormal'].sort_values('dateTime',ascending=True)\n",
    "test_normal_mode3=test_mode3[test_mode3['state']=='normal'].sort_values('dateTime',ascending=True)\n",
    "test_abnormal_mode3=test_mode3[test_mode3['state']=='abnormal'].sort_values('dateTime',ascending=True)\n",
    "\n",
    "train_normal_mode2=train_mode2[train_mode2['state']=='normal'].sort_values('dateTime',ascending=True)\n",
    "train_abnormal_mode2=train_mode2[train_mode2['state']=='abnormal'].sort_values('dateTime',ascending=True)\n",
    "train_normal_mode3=train_mode3[train_mode3['state']=='normal'].sort_values('dateTime',ascending=True)\n",
    "train_abnormal_mode3=train_mode3[train_mode3['state']=='abnormal'].sort_values('dateTime',ascending=True)\n",
    "\n",
    "print(np.all(test_normal_mode2['state']=='normal'))\n",
    "print(np.all(test_normal_mode3['state']=='normal'))\n",
    "print(np.all(test_abnormal_mode2['state']=='abnormal'))\n",
    "print(np.all(test_abnormal_mode3['state']=='abnormal'))\n",
    "print(np.all(train_normal_mode2['state']=='normal'))\n",
    "print(np.all(train_normal_mode3['state']=='normal'))\n",
    "print(np.all(train_abnormal_mode2['state']=='abnormal'))\n",
    "print(np.all(train_abnormal_mode3['state']=='abnormal'))"
   ]
  },
  {
   "cell_type": "markdown",
   "metadata": {},
   "source": [
    "## 9. 다시 시간에 대해서 자르기"
   ]
  },
  {
   "cell_type": "code",
   "execution_count": 39,
   "metadata": {},
   "outputs": [],
   "source": [
    "Spliting=pd.DataFrame(index=['mode2','mode3'],columns=['test_normal','test_abnormal','train_normal','train_abnormal'])\n",
    "OneSecond=test_data.iloc[1,25]-test_data.iloc[0,25]"
   ]
  },
  {
   "cell_type": "code",
   "execution_count": 40,
   "metadata": {},
   "outputs": [],
   "source": [
    "#test_normal_mode2\n",
    "temp=test_normal_mode2\n",
    "where_something=np.array(np.where((temp['dateTime'].iloc[1:].values-temp['dateTime'].iloc[:-1].values)!=OneSecond))[0]\n",
    "for i in range(len(where_something)+1):\n",
    "    if i==0:\n",
    "        test_normal_mode2_1=temp.iloc[:where_something[0]+1,:]\n",
    "    elif i==len(where_something):\n",
    "        s2=\"test_normal_mode2_%d=temp.iloc[where_something[%d]+1:,:]\" %(i+1,i-1)\n",
    "        exec(s2)\n",
    "    else:\n",
    "        s3=\"test_normal_mode2_%d=temp.iloc[where_something[%d]+1:where_something[%d]+1,:]\" %(i+1,i-1,i)\n",
    "        exec(s3)\n",
    "Spliting.iloc[0,0]=len(where_something)+1 \n",
    "where_something=0"
   ]
  },
  {
   "cell_type": "code",
   "execution_count": 41,
   "metadata": {},
   "outputs": [],
   "source": [
    "#test_normal_mode3\n",
    "temp=test_normal_mode3\n",
    "where_something=np.array(np.where((temp['dateTime'].iloc[1:].values-temp['dateTime'].iloc[:-1].values)!=OneSecond))[0]\n",
    "for i in range(len(where_something)+1):\n",
    "    if i==0:\n",
    "        test_normal_mode3_1=temp.iloc[:where_something[0]+1,:]\n",
    "    elif i==len(where_something):\n",
    "        s2=\"test_normal_mode3_%d=temp.iloc[where_something[%d]+1:,:]\" %(i+1,i-1)\n",
    "        exec(s2)\n",
    "    else:\n",
    "        s3=\"test_normal_mode3_%d=temp.iloc[where_something[%d]+1:where_something[%d]+1,:]\" %(i+1,i-1,i)\n",
    "        exec(s3)\n",
    "Spliting.iloc[1,0]=len(where_something)+1 \n",
    "where_somthing=0"
   ]
  },
  {
   "cell_type": "code",
   "execution_count": 42,
   "metadata": {},
   "outputs": [],
   "source": [
    "#test_abnormal_mode2\n",
    "temp=test_abnormal_mode2\n",
    "where_something=np.array(np.where((temp['dateTime'].iloc[1:].values-temp['dateTime'].iloc[:-1].values)!=OneSecond))[0]\n",
    "for i in range(len(where_something)+1):\n",
    "    if i==0:\n",
    "        test_abnormal_mode2_1=temp.iloc[:where_something[0]+1,:]\n",
    "    elif i==len(where_something):\n",
    "        s2=\"test_abnormal_mode2_%d=temp.iloc[where_something[%d]+1:,:]\" %(i+1,i-1)\n",
    "        exec(s2)\n",
    "    else:\n",
    "        s3=\"test_abnormal_mode2_%d=temp.iloc[where_something[%d]+1:where_something[%d]+1,:]\" %(i+1,i-1,i)\n",
    "        exec(s3)\n",
    "Spliting.iloc[0,1]=len(where_something)+1 \n",
    "where_something=0"
   ]
  },
  {
   "cell_type": "code",
   "execution_count": 43,
   "metadata": {},
   "outputs": [],
   "source": [
    "#test_abnormal_mode3\n",
    "temp=test_abnormal_mode3\n",
    "where_something=np.array(np.where((temp['dateTime'].iloc[1:].values-temp['dateTime'].iloc[:-1].values)!=OneSecond))[0]\n",
    "for i in range(len(where_something)+1):\n",
    "    if i==0:\n",
    "        test_abnormal_mode3_1=temp.iloc[:where_something[0]+1,:]\n",
    "    elif i==len(where_something):\n",
    "        s2=\"test_abnormal_mode3_%d=temp.iloc[where_something[%d]+1:,:]\" %(i+1,i-1)\n",
    "        exec(s2)\n",
    "    else:\n",
    "        s3=\"test_abnormal_mode3_%d=temp.iloc[where_something[%d]+1:where_something[%d]+1,:]\" %(i+1,i-1,i)\n",
    "        exec(s3)\n",
    "Spliting.iloc[1,1]=len(where_something)+1 \n",
    "where_something=0"
   ]
  },
  {
   "cell_type": "markdown",
   "metadata": {},
   "source": [
    "train"
   ]
  },
  {
   "cell_type": "code",
   "execution_count": 44,
   "metadata": {},
   "outputs": [],
   "source": [
    "#train_normal_mode2\n",
    "temp=train_normal_mode2\n",
    "where_something=np.array(np.where((temp['dateTime'].iloc[1:].values-temp['dateTime'].iloc[:-1].values)!=OneSecond))[0]\n",
    "for i in range(len(where_something)+1):\n",
    "    if i==0:\n",
    "        train_normal_mode2_1=temp.iloc[:where_something[0]+1,:]\n",
    "    elif i==len(where_something):\n",
    "        s2=\"train_normal_mode2_%d=temp.iloc[where_something[%d]+1:,:]\" %(i+1,i-1)\n",
    "        exec(s2)\n",
    "    else:\n",
    "        s3=\"train_normal_mode2_%d=temp.iloc[where_something[%d]+1:where_something[%d]+1,:]\" %(i+1,i-1,i)\n",
    "        exec(s3)\n",
    "Spliting.iloc[0,2]=len(where_something)+1 \n",
    "where_something=0"
   ]
  },
  {
   "cell_type": "code",
   "execution_count": 45,
   "metadata": {},
   "outputs": [],
   "source": [
    "#train_normal_mode3\n",
    "temp=train_normal_mode3\n",
    "where_something=np.array(np.where((temp['dateTime'].iloc[1:].values-temp['dateTime'].iloc[:-1].values)!=OneSecond))[0]\n",
    "for i in range(len(where_something)+1):\n",
    "    if i==0:\n",
    "        train_normal_mode3_1=temp.iloc[:where_something[0]+1,:]\n",
    "    elif i==len(where_something):\n",
    "        s2=\"train_normal_mode3_%d=temp.iloc[where_something[%d]+1:,:]\" %(i+1,i-1)\n",
    "        exec(s2)\n",
    "    else:\n",
    "        s3=\"train_normal_mode3_%d=temp.iloc[where_something[%d]+1:where_something[%d]+1,:]\" %(i+1,i-1,i)\n",
    "        exec(s3)\n",
    "Spliting.iloc[1,2]=len(where_something)+1 \n",
    "where_something=0"
   ]
  },
  {
   "cell_type": "code",
   "execution_count": 46,
   "metadata": {},
   "outputs": [],
   "source": [
    "#train_abnormal_mode2\n",
    "temp=train_abnormal_mode2\n",
    "where_something=np.array(np.where((temp['dateTime'].iloc[1:].values-temp['dateTime'].iloc[:-1].values)!=OneSecond))[0]\n",
    "for i in range(len(where_something)+1):\n",
    "    if i==0:\n",
    "        train_abnormal_mode2_1=temp.iloc[:where_something[0]+1,:]\n",
    "    elif i==len(where_something):\n",
    "        s2=\"train_abnormal_mode2_%d=temp.iloc[where_something[%d]+1:,:]\" %(i+1,i-1)\n",
    "        exec(s2)\n",
    "    else:\n",
    "        s3=\"train_abnormal_mode2_%d=temp.iloc[where_something[%d]+1:where_something[%d]+1,:]\" %(i+1,i-1,i)\n",
    "        exec(s3)\n",
    "Spliting.iloc[0,3]=len(where_something)+1 \n",
    "where_something=0"
   ]
  },
  {
   "cell_type": "code",
   "execution_count": 47,
   "metadata": {},
   "outputs": [],
   "source": [
    "#train_abnormal_mode3\n",
    "temp=train_abnormal_mode3\n",
    "where_something=np.array(np.where((temp['dateTime'].iloc[1:].values-temp['dateTime'].iloc[:-1].values)!=OneSecond))[0]\n",
    "for i in range(len(where_something)+1):\n",
    "    if i==0:\n",
    "        train_abnormal_mode3_1=temp.iloc[:where_something[0]+1,:]\n",
    "    elif i==len(where_something):\n",
    "        s2=\"train_abnormal_mode3_%d=temp.iloc[where_something[%d]+1:,:]\" %(i+1,i-1)\n",
    "        exec(s2)\n",
    "    else:\n",
    "        s3=\"train_abnormal_mode3_%d=temp.iloc[where_something[%d]+1:where_something[%d]+1,:]\" %(i+1,i-1,i)\n",
    "        exec(s3)\n",
    "Spliting.iloc[1,3]=len(where_something)+1 \n",
    "where_something=0"
   ]
  },
  {
   "cell_type": "code",
   "execution_count": 48,
   "metadata": {},
   "outputs": [
    {
     "data": {
      "text/html": [
       "<div>\n",
       "<style scoped>\n",
       "    .dataframe tbody tr th:only-of-type {\n",
       "        vertical-align: middle;\n",
       "    }\n",
       "\n",
       "    .dataframe tbody tr th {\n",
       "        vertical-align: top;\n",
       "    }\n",
       "\n",
       "    .dataframe thead th {\n",
       "        text-align: right;\n",
       "    }\n",
       "</style>\n",
       "<table border=\"1\" class=\"dataframe\">\n",
       "  <thead>\n",
       "    <tr style=\"text-align: right;\">\n",
       "      <th></th>\n",
       "      <th>test_normal</th>\n",
       "      <th>test_abnormal</th>\n",
       "      <th>train_normal</th>\n",
       "      <th>train_abnormal</th>\n",
       "    </tr>\n",
       "  </thead>\n",
       "  <tbody>\n",
       "    <tr>\n",
       "      <th>mode2</th>\n",
       "      <td>38</td>\n",
       "      <td>29</td>\n",
       "      <td>19</td>\n",
       "      <td>22</td>\n",
       "    </tr>\n",
       "    <tr>\n",
       "      <th>mode3</th>\n",
       "      <td>40</td>\n",
       "      <td>28</td>\n",
       "      <td>166</td>\n",
       "      <td>683</td>\n",
       "    </tr>\n",
       "  </tbody>\n",
       "</table>\n",
       "</div>"
      ],
      "text/plain": [
       "      test_normal test_abnormal train_normal train_abnormal\n",
       "mode2          38            29           19             22\n",
       "mode3          40            28          166            683"
      ]
     },
     "execution_count": 48,
     "metadata": {},
     "output_type": "execute_result"
    }
   ],
   "source": [
    "Spliting"
   ]
  },
  {
   "cell_type": "markdown",
   "metadata": {},
   "source": [
    "## 10. 데이터 저장하기"
   ]
  },
  {
   "cell_type": "code",
   "execution_count": 51,
   "metadata": {},
   "outputs": [
    {
     "name": "stdout",
     "output_type": "stream",
     "text": [
      "38\n",
      "40\n",
      "29\n",
      "28\n",
      "19\n",
      "166\n",
      "22\n",
      "683\n"
     ]
    }
   ],
   "source": [
    "#NumofData\n",
    "Spliting.to_csv('./Final 전처리된data/AmountOfDataAll',sep=',')\n",
    "\n",
    "#test_normal_mode2\n",
    "temp='test_normal_mode2'\n",
    "for i in range(int(Spliting['test_normal'].iloc[0])):\n",
    "    s1=\"%s_%d.to_csv('./Final 전처리된data/%s_%d',sep=',',index=None)\" %(temp,i+1,temp,i+1) \n",
    "    exec(s1)\n",
    "print(i+1)    \n",
    "    \n",
    "#test_normal_mode3\n",
    "temp='test_normal_mode3'\n",
    "for i in range(int(Spliting['test_normal'].iloc[1])):\n",
    "    s1=\"%s_%d.to_csv('./Final 전처리된data/%s_%d',sep=',',index=None)\" %(temp,i+1,temp,i+1)\n",
    "    exec(s1)\n",
    "print(i+1)\n",
    "    \n",
    "#test_abnormal_mode2\n",
    "temp='test_abnormal_mode2'\n",
    "for i in range(int(Spliting['test_abnormal'].iloc[0])):\n",
    "    s1=\"%s_%d.to_csv('./Final 전처리된data/%s_%d',sep=',',index=None)\" %(temp,i+1,temp,i+1)\n",
    "    exec(s1)\n",
    "print(i+1)    \n",
    "    \n",
    "#test_abnormal_mode3\n",
    "temp='test_abnormal_mode3'\n",
    "for i in range(int(Spliting['test_abnormal'].iloc[1])):\n",
    "    s1=\"%s_%d.to_csv('./Final 전처리된data/%s_%d',sep=',',index=None)\" %(temp,i+1,temp,i+1)\n",
    "    exec(s1)\n",
    "print(i+1)    \n",
    "    \n",
    "    \n",
    "    \n",
    "#train_normal_mode2\n",
    "temp='train_normal_mode2'\n",
    "for i in range(int(Spliting['train_normal'].iloc[0])):\n",
    "    s1=\"%s_%d.to_csv('./Final 전처리된data/%s_%d',sep=',',index=None)\" %(temp,i+1,temp,i+1) \n",
    "    exec(s1)\n",
    "print(i+1)    \n",
    "    \n",
    "#test_normal_mode3\n",
    "temp='train_normal_mode3'\n",
    "for i in range(int(Spliting['train_normal'].iloc[1])):\n",
    "    s1=\"%s_%d.to_csv('./Final 전처리된data/%s_%d',sep=',',index=None)\" %(temp,i+1,temp,i+1)\n",
    "    exec(s1)\n",
    "\n",
    "print(i+1)    \n",
    "    \n",
    "    \n",
    "#test_abnormal_mode2\n",
    "temp='train_abnormal_mode2'\n",
    "for i in range(int(Spliting['train_abnormal'].iloc[0])):\n",
    "    s1=\"%s_%d.to_csv('./Final 전처리된data/%s_%d',sep=',',index=None)\" %(temp,i+1,temp,i+1)\n",
    "    exec(s1)\n",
    "print(i+1)\n",
    "\n",
    "    \n",
    "#test_abnormal_mode3\n",
    "temp='train_abnormal_mode3'\n",
    "for i in range(int(Spliting['train_abnormal'].iloc[1])):\n",
    "    s1=\"%s_%d.to_csv('./Final 전처리된data/%s_%d',sep=',',index=None)\" %(temp,i+1,temp,i+1)\n",
    "    exec(s1)\n",
    "print(i+1)"
   ]
  }
 ],
 "metadata": {
  "kernelspec": {
   "display_name": "Python 3",
   "language": "python",
   "name": "python3"
  },
  "language_info": {
   "codemirror_mode": {
    "name": "ipython",
    "version": 3
   },
   "file_extension": ".py",
   "mimetype": "text/x-python",
   "name": "python",
   "nbconvert_exporter": "python",
   "pygments_lexer": "ipython3",
   "version": "3.7.9"
  }
 },
 "nbformat": 4,
 "nbformat_minor": 4
}
