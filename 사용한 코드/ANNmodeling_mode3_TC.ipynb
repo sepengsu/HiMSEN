{
 "cells": [
  {
   "cell_type": "code",
   "execution_count": 3,
   "metadata": {},
   "outputs": [],
   "source": [
    "import pandas as pd\n",
    "import numpy as np\n",
    "import matplotlib.pyplot as plt\n",
    "import tensorflow as tf\n",
    "from tensorflow import keras\n",
    "import seaborn as sns\n",
    "tf.random.set_seed(1)"
   ]
  },
  {
   "cell_type": "code",
   "execution_count": 4,
   "metadata": {},
   "outputs": [
    {
     "name": "stdout",
     "output_type": "stream",
     "text": [
      "train\n",
      "(223313, 6)\n",
      "test\n",
      "(55828, 6)\n"
     ]
    }
   ],
   "source": [
    "dataset=pd.read_csv('./train_mode3_TC.csv')\n",
    "\n",
    "#데이터를 8:2로 분할   \n",
    "train_mode3_train=dataset.sample(frac=0.8,random_state=2 )\n",
    "train_mode3_test = dataset.drop(train_mode3_train.index)\n",
    "\n",
    "    \n",
    "\n",
    "print(\"train\")\n",
    "print(train_mode3_train.shape)\n",
    "\n",
    "print(\"test\")\n",
    "print(train_mode3_test.shape)"
   ]
  },
  {
   "cell_type": "code",
   "execution_count": 5,
   "metadata": {},
   "outputs": [
    {
     "data": {
      "text/plain": [
       "8          6340\n",
       "19         1761\n",
       "24        16775\n",
       "34         4235\n",
       "35        13751\n",
       "          ...  \n",
       "279116    11851\n",
       "279120    79731\n",
       "279130      542\n",
       "279131     2651\n",
       "279135     2842\n",
       "Name: Unnamed: 0, Length: 55828, dtype: int64"
      ]
     },
     "execution_count": 5,
     "metadata": {},
     "output_type": "execute_result"
    }
   ],
   "source": [
    "train_mode3_train.pop('Unnamed: 0')\n",
    "train_mode3_test.pop('Unnamed: 0')"
   ]
  },
  {
   "cell_type": "code",
   "execution_count": 6,
   "metadata": {},
   "outputs": [],
   "source": [
    "train_labels = train_mode3_train.pop('state')\n",
    "test_labels = train_mode3_test.pop('state')\n",
    "\n",
    "# n default: 64"
   ]
  },
  {
   "cell_type": "code",
   "execution_count": 7,
   "metadata": {},
   "outputs": [
    {
     "name": "stdout",
     "output_type": "stream",
     "text": [
      "        Air temp, TC inlet (TE29)  Exh. Gas temp, TC Inlet  \\\n",
      "175772                  -0.164788                 0.417945   \n",
      "222236                  -0.413312                -0.092667   \n",
      "131030                  -0.655931                 0.422148   \n",
      "9401                     0.322061                -0.816978   \n",
      "66962                   -1.534622                 0.271486   \n",
      "...                           ...                      ...   \n",
      "140438                  -0.164788                 0.316243   \n",
      "122991                   0.727322                 0.755411   \n",
      "198162                   0.531938                 0.356167   \n",
      "236248                   0.172840                -1.373608   \n",
      "278462                  -0.444444                -0.889262   \n",
      "\n",
      "        Exh. Gas temp, TC Outlet  TC speed  \n",
      "175772                 -0.600406  0.375127  \n",
      "222236                 -0.046533 -0.288421  \n",
      "131030                 -0.596814  0.385966  \n",
      "9401                   -0.669113 -0.292867  \n",
      "66962                   0.357745 -0.037981  \n",
      "...                          ...       ...  \n",
      "140438                 -0.485790  0.279528  \n",
      "122991                  0.229856  0.254331  \n",
      "198162                 -0.775453  0.439324  \n",
      "236248                  1.487820 -1.930431  \n",
      "278462                  3.306527 -2.908661  \n",
      "\n",
      "[223313 rows x 4 columns]\n"
     ]
    }
   ],
   "source": [
    "print(train_mode3_train)"
   ]
  },
  {
   "cell_type": "code",
   "execution_count": 8,
   "metadata": {},
   "outputs": [],
   "source": [
    "def build_model_mode3_TC():\n",
    "  model = keras.Sequential([\n",
    "    keras.layers.Dense(9, activation='relu', input_shape=[len(train_mode3_train.keys())]),\n",
    "    keras.layers.Dense(9, activation='relu'),\n",
    "    keras.layers.Dense(9, activation='relu'),  \n",
    "    keras.layers.Dense(1)\n",
    "  ])\n",
    "\n",
    "              \n",
    "  optimizer = tf.keras.optimizers.RMSprop(0.00125)\n",
    "\n",
    "  model.compile(loss='mse',\n",
    "                optimizer=optimizer,\n",
    "                metrics=['mae', 'mse'])\n",
    "  return model"
   ]
  },
  {
   "cell_type": "code",
   "execution_count": 9,
   "metadata": {},
   "outputs": [
    {
     "name": "stdout",
     "output_type": "stream",
     "text": [
      "Model: \"sequential\"\n",
      "_________________________________________________________________\n",
      "Layer (type)                 Output Shape              Param #   \n",
      "=================================================================\n",
      "dense (Dense)                (None, 9)                 45        \n",
      "_________________________________________________________________\n",
      "dense_1 (Dense)              (None, 9)                 90        \n",
      "_________________________________________________________________\n",
      "dense_2 (Dense)              (None, 9)                 90        \n",
      "_________________________________________________________________\n",
      "dense_3 (Dense)              (None, 1)                 10        \n",
      "=================================================================\n",
      "Total params: 235\n",
      "Trainable params: 235\n",
      "Non-trainable params: 0\n",
      "_________________________________________________________________\n"
     ]
    }
   ],
   "source": [
    "model1_mode3_TC=build_model_mode3_TC()\n",
    "model2_mode3_TC=build_model_mode3_TC()\n",
    "model3_mode3_TC=build_model_mode3_TC()\n",
    "\n",
    "\n",
    "\n",
    "model1_mode3_TC.summary()\n"
   ]
  },
  {
   "cell_type": "code",
   "execution_count": 10,
   "metadata": {},
   "outputs": [
    {
     "name": "stdout",
     "output_type": "stream",
     "text": [
      "100\n",
      "1\n",
      "\n",
      "0.0 0.1 0.2 0.3 0.4 0.5 0.6 0.7 0.8 0.9 1.0 1.1 1.2 1.3 1.4 1.5 1.6 1.7 1.8 1.9 2.0 2.1 2.2 2.3 2.4 2.5 2.6 2.7 2.8 2.9 3.0 3.1 3.2 3.3 3.4 3.5 3.6 3.7 3.8 3.9 4.0 4.1 4.2 4.3 4.4 \n",
      "\n",
      "2\n",
      "\n",
      "0.0 0.1 0.2 0.3 0.4 0.5 0.6 0.7 0.8 0.9 1.0 1.1 1.2 1.3 1.4 1.5 1.6 1.7 1.8 1.9 2.0 2.1 2.2 2.3 2.4 2.5 2.6 2.7 2.8 2.9 3.0 3.1 3.2 3.3 3.4 3.5 3.6 3.7 3.8 3.9 4.0 4.1 4.2 \n",
      "\n",
      "3\n",
      "\n",
      "0.0 0.1 0.2 0.3 0.4 0.5 0.6 0.7 0.8 0.9 1.0 1.1 1.2 1.3 1.4 1.5 1.6 1.7 1.8 1.9 2.0 2.1 2.2 2.3 2.4 2.5 2.6 2.7 2.8 2.9 3.0 3.1 "
     ]
    }
   ],
   "source": [
    "EPOCHS=100\n",
    "#\n",
    "print(EPOCHS)\n",
    "class PrintDot(keras.callbacks.Callback):\n",
    "  def on_epoch_end(self, epoch, logs):\n",
    "    if epoch % 100 == 0: print('')\n",
    "    print(epoch/10, end=' ')\n",
    "    \n",
    "early_stop = keras.callbacks.EarlyStopping(monitor='val_loss', patience=10)\n",
    "\n",
    "print(1)\n",
    "\n",
    "history1 = model1_mode3_TC.fit(train_mode3_train, train_labels, epochs=EPOCHS,\n",
    "                    validation_split = 0.25, verbose=0, callbacks=[early_stop, PrintDot()])\n",
    "print(\"\\n\")\n",
    "print(2)\n",
    "history2 = model2_mode3_TC.fit(train_mode3_train, train_labels, epochs=EPOCHS,\n",
    "                    validation_split = 0.25, verbose=0, callbacks=[early_stop, PrintDot()])\n",
    "print(\"\\n\")\n",
    "print(3)\n",
    "history3 = model3_mode3_TC.fit(train_mode3_train, train_labels, epochs=EPOCHS,\n",
    "                    validation_split = 0.25, verbose=0, callbacks=[early_stop, PrintDot()])\n",
    "\n",
    "\n",
    "\n",
    "#model 확인"
   ]
  },
  {
   "cell_type": "code",
   "execution_count": 11,
   "metadata": {
    "scrolled": true
   },
   "outputs": [
    {
     "data": {
      "text/html": [
       "<div>\n",
       "<style scoped>\n",
       "    .dataframe tbody tr th:only-of-type {\n",
       "        vertical-align: middle;\n",
       "    }\n",
       "\n",
       "    .dataframe tbody tr th {\n",
       "        vertical-align: top;\n",
       "    }\n",
       "\n",
       "    .dataframe thead th {\n",
       "        text-align: right;\n",
       "    }\n",
       "</style>\n",
       "<table border=\"1\" class=\"dataframe\">\n",
       "  <thead>\n",
       "    <tr style=\"text-align: right;\">\n",
       "      <th></th>\n",
       "      <th>loss</th>\n",
       "      <th>mae</th>\n",
       "      <th>mse</th>\n",
       "      <th>val_loss</th>\n",
       "      <th>val_mae</th>\n",
       "      <th>val_mse</th>\n",
       "      <th>epoch</th>\n",
       "    </tr>\n",
       "  </thead>\n",
       "  <tbody>\n",
       "    <tr>\n",
       "      <th>40</th>\n",
       "      <td>0.013534</td>\n",
       "      <td>0.031976</td>\n",
       "      <td>0.013534</td>\n",
       "      <td>0.014301</td>\n",
       "      <td>0.042725</td>\n",
       "      <td>0.014301</td>\n",
       "      <td>40</td>\n",
       "    </tr>\n",
       "    <tr>\n",
       "      <th>41</th>\n",
       "      <td>0.013656</td>\n",
       "      <td>0.032436</td>\n",
       "      <td>0.013656</td>\n",
       "      <td>0.012803</td>\n",
       "      <td>0.026267</td>\n",
       "      <td>0.012803</td>\n",
       "      <td>41</td>\n",
       "    </tr>\n",
       "    <tr>\n",
       "      <th>42</th>\n",
       "      <td>0.013717</td>\n",
       "      <td>0.032433</td>\n",
       "      <td>0.013717</td>\n",
       "      <td>0.013290</td>\n",
       "      <td>0.031110</td>\n",
       "      <td>0.013290</td>\n",
       "      <td>42</td>\n",
       "    </tr>\n",
       "    <tr>\n",
       "      <th>43</th>\n",
       "      <td>0.013803</td>\n",
       "      <td>0.033126</td>\n",
       "      <td>0.013803</td>\n",
       "      <td>0.013354</td>\n",
       "      <td>0.027349</td>\n",
       "      <td>0.013354</td>\n",
       "      <td>43</td>\n",
       "    </tr>\n",
       "    <tr>\n",
       "      <th>44</th>\n",
       "      <td>0.013877</td>\n",
       "      <td>0.033409</td>\n",
       "      <td>0.013877</td>\n",
       "      <td>0.013644</td>\n",
       "      <td>0.038186</td>\n",
       "      <td>0.013644</td>\n",
       "      <td>44</td>\n",
       "    </tr>\n",
       "  </tbody>\n",
       "</table>\n",
       "</div>"
      ],
      "text/plain": [
       "        loss       mae       mse  val_loss   val_mae   val_mse  epoch\n",
       "40  0.013534  0.031976  0.013534  0.014301  0.042725  0.014301     40\n",
       "41  0.013656  0.032436  0.013656  0.012803  0.026267  0.012803     41\n",
       "42  0.013717  0.032433  0.013717  0.013290  0.031110  0.013290     42\n",
       "43  0.013803  0.033126  0.013803  0.013354  0.027349  0.013354     43\n",
       "44  0.013877  0.033409  0.013877  0.013644  0.038186  0.013644     44"
      ]
     },
     "execution_count": 11,
     "metadata": {},
     "output_type": "execute_result"
    }
   ],
   "source": [
    "#데이터프레임으로 결과저장\n",
    "hist1 = pd.DataFrame(history1.history)\n",
    "hist1['epoch'] = history1.epoch\n",
    "hist2 = pd.DataFrame(history2.history)\n",
    "hist2['epoch'] = history2.epoch\n",
    "hist3 = pd.DataFrame(history3.history)\n",
    "hist3['epoch'] = history3.epoch\n",
    "\n",
    "\n",
    "\n",
    "\n",
    "\n",
    "hist1.tail()\n"
   ]
  },
  {
   "cell_type": "code",
   "execution_count": 12,
   "metadata": {},
   "outputs": [
    {
     "name": "stdout",
     "output_type": "stream",
     "text": [
      "[0.97598433 0.0737306  0.99430096 ... 0.02670333 0.0143847  0.9815768 ]\n",
      "[ 0.92717814  0.02762957  0.99431497 ...  0.00448288 -0.00706423\n",
      "  0.98820907]\n"
     ]
    }
   ],
   "source": [
    "#학습된 모델로 예측\n",
    "test_predictions1 = model1_mode3_TC.predict(train_mode3_test).flatten()\n",
    "test_predictions2 = model2_mode3_TC.predict(train_mode3_test).flatten()\n",
    "test_predictions3 = model3_mode3_TC.predict(train_mode3_test).flatten()\n",
    "\n",
    "\n",
    "test_predictions_mean=pd.DataFrame()\n",
    "\n",
    "test_predictions_mean=(test_predictions1+test_predictions2+test_predictions3)/3\n",
    "\n",
    "print(test_predictions1)\n",
    "print(test_predictions_mean)\n",
    "#af=plt.scatter(test_labels, test_predictions_mean)\n",
    "\n",
    "#plt.xlim([0,plt.xlim()[1]])\n",
    "#plt.ylim([-1,plt.ylim()[2]])\n",
    "#_ = plt.plot([-100, 100], [-100, 100])"
   ]
  },
  {
   "cell_type": "code",
   "execution_count": 13,
   "metadata": {},
   "outputs": [
    {
     "data": {
      "text/plain": [
       "Text(0.5, 0, 'System Predictions')"
      ]
     },
     "execution_count": 13,
     "metadata": {},
     "output_type": "execute_result"
    },
    {
     "data": {
      "image/png": "[encoded data removed]",
      "text/plain": [
       "<Figure size 432x288 with 1 Axes>"
      ]
     },
     "metadata": {
      "needs_background": "light"
     },
     "output_type": "display_data"
    }
   ],
   "source": [
    "plt.scatter(test_predictions1,test_labels)\n",
    "plt.ylabel('Total')\n",
    "plt.xlabel('System Predictions')\n"
   ]
  },
  {
   "cell_type": "code",
   "execution_count": 14,
   "metadata": {},
   "outputs": [
    {
     "data": {
      "text/plain": [
       "Text(0.5, 0, 'System Predictions')"
      ]
     },
     "execution_count": 14,
     "metadata": {},
     "output_type": "execute_result"
    },
    {
     "data": {
      "image/png": "[encoded data removed]",
      "text/plain": [
       "<Figure size 432x288 with 1 Axes>"
      ]
     },
     "metadata": {
      "needs_background": "light"
     },
     "output_type": "display_data"
    }
   ],
   "source": [
    "plt.scatter(test_predictions2,test_labels)\n",
    "plt.ylabel('Total')\n",
    "plt.xlabel('System Predictions')\n"
   ]
  },
  {
   "cell_type": "code",
   "execution_count": 15,
   "metadata": {},
   "outputs": [
    {
     "data": {
      "text/plain": [
       "Text(0.5, 0, 'System Predictions')"
      ]
     },
     "execution_count": 15,
     "metadata": {},
     "output_type": "execute_result"
    },
    {
     "data": {
      "image/png": "[encoded data removed]",
      "text/plain": [
       "<Figure size 432x288 with 1 Axes>"
      ]
     },
     "metadata": {
      "needs_background": "light"
     },
     "output_type": "display_data"
    }
   ],
   "source": [
    "plt.scatter(test_predictions3,test_labels)\n",
    "plt.ylabel('Total')\n",
    "plt.xlabel('System Predictions')\n"
   ]
  },
  {
   "cell_type": "code",
   "execution_count": 16,
   "metadata": {},
   "outputs": [
    {
     "data": {
      "text/plain": [
       "Text(0.5, 0, 'System Predictions')"
      ]
     },
     "execution_count": 16,
     "metadata": {},
     "output_type": "execute_result"
    },
    {
     "data": {
      "image/png": "[encoded data removed]",
      "text/plain": [
       "<Figure size 432x288 with 1 Axes>"
      ]
     },
     "metadata": {
      "needs_background": "light"
     },
     "output_type": "display_data"
    }
   ],
   "source": [
    "plt.scatter(test_predictions_mean,test_labels)\n",
    "plt.ylabel('Total')\n",
    "plt.xlabel('System Predictions')\n"
   ]
  },
  {
   "cell_type": "code",
   "execution_count": 17,
   "metadata": {
    "scrolled": true
   },
   "outputs": [
    {
     "data": {
      "text/plain": [
       "(array([6.0000e+00, 9.0000e+00, 4.4000e+01, 2.0737e+04, 5.8390e+03,\n",
       "        4.1500e+02, 1.9000e+02, 1.8200e+02, 1.1400e+02, 1.5200e+02,\n",
       "        1.4100e+02, 1.7700e+02, 1.2100e+02, 1.4700e+02, 1.4300e+02,\n",
       "        4.6250e+03, 2.2471e+04, 1.6100e+02, 1.4100e+02, 1.3000e+01]),\n",
       " array([-0.2902438 , -0.2114819 , -0.13272   , -0.05395808,  0.02480383,\n",
       "         0.10356574,  0.18232764,  0.26108956,  0.33985147,  0.41861337,\n",
       "         0.49737528,  0.5761372 ,  0.6548991 ,  0.733661  ,  0.81242293,\n",
       "         0.8911848 ,  0.96994674,  1.0487087 ,  1.1274705 ,  1.2062324 ,\n",
       "         1.2849944 ], dtype=float32),\n",
       " [<matplotlib.patches.Polygon at 0x1df0479c7c8>])"
      ]
     },
     "execution_count": 17,
     "metadata": {},
     "output_type": "execute_result"
    },
    {
     "data": {
      "image/png": "[encoded data removed]",
      "text/plain": [
       "<Figure size 432x288 with 1 Axes>"
      ]
     },
     "metadata": {
      "needs_background": "light"
     },
     "output_type": "display_data"
    }
   ],
   "source": [
    "plt.hist(test_predictions1,bins=20, density=False, alpha=0.5,histtype='stepfilled')"
   ]
  },
  {
   "cell_type": "code",
   "execution_count": 18,
   "metadata": {},
   "outputs": [
    {
     "data": {
      "text/plain": [
       "(array([3.0000e+00, 9.0000e+00, 1.1700e+03, 2.4350e+04, 1.3990e+03,\n",
       "        3.5700e+02, 2.4600e+02, 2.6700e+02, 2.1000e+02, 1.1400e+02,\n",
       "        6.2000e+01, 8.5000e+01, 1.2400e+02, 3.2800e+02, 2.5424e+04,\n",
       "        1.5540e+03, 8.7000e+01, 2.6000e+01, 3.0000e+00, 1.0000e+01]),\n",
       " array([-0.3380959 , -0.249191  , -0.1602861 , -0.0713812 ,  0.01752369,\n",
       "         0.10642859,  0.1953335 ,  0.2842384 ,  0.3731433 ,  0.4620482 ,\n",
       "         0.5509531 ,  0.639858  ,  0.72876287,  0.8176678 ,  0.9065727 ,\n",
       "         0.99547756,  1.0843825 ,  1.1732874 ,  1.2621922 ,  1.3510972 ,\n",
       "         1.4400021 ], dtype=float32),\n",
       " [<matplotlib.patches.Polygon at 0x1df0453b888>])"
      ]
     },
     "execution_count": 18,
     "metadata": {},
     "output_type": "execute_result"
    },
    {
     "data": {
      "image/png": "[encoded data removed]",
      "text/plain": [
       "<Figure size 432x288 with 1 Axes>"
      ]
     },
     "metadata": {
      "needs_background": "light"
     },
     "output_type": "display_data"
    }
   ],
   "source": [
    "plt.hist(test_predictions2,bins=20, density=False, alpha=0.5,histtype='stepfilled')"
   ]
  },
  {
   "cell_type": "code",
   "execution_count": 19,
   "metadata": {},
   "outputs": [
    {
     "data": {
      "text/plain": [
       "(array([6.0000e+00, 1.5000e+01, 5.4240e+03, 2.0709e+04, 6.8300e+02,\n",
       "        2.7600e+02, 1.8500e+02, 1.9900e+02, 2.4600e+02, 9.8000e+01,\n",
       "        1.2100e+02, 1.0200e+02, 1.2800e+02, 2.1900e+02, 7.4900e+02,\n",
       "        2.5729e+04, 8.2900e+02, 6.2000e+01, 1.6000e+01, 3.2000e+01]),\n",
       " array([-2.3514399e-01, -1.5638457e-01, -7.7625163e-02,  1.1342481e-03,\n",
       "         7.9893664e-02,  1.5865308e-01,  2.3741248e-01,  3.1617188e-01,\n",
       "         3.9493132e-01,  4.7369072e-01,  5.5245012e-01,  6.3120955e-01,\n",
       "         7.0996898e-01,  7.8872836e-01,  8.6748779e-01,  9.4624722e-01,\n",
       "         1.0250067e+00,  1.1037660e+00,  1.1825254e+00,  1.2612848e+00,\n",
       "         1.3400443e+00], dtype=float32),\n",
       " [<matplotlib.patches.Polygon at 0x1df047b8488>])"
      ]
     },
     "execution_count": 19,
     "metadata": {},
     "output_type": "execute_result"
    },
    {
     "data": {
      "image/png": "[encoded data removed]",
      "text/plain": [
       "<Figure size 432x288 with 1 Axes>"
      ]
     },
     "metadata": {
      "needs_background": "light"
     },
     "output_type": "display_data"
    }
   ],
   "source": [
    "plt.hist(test_predictions3,bins=20, density=False, alpha=0.5,histtype='stepfilled')"
   ]
  },
  {
   "cell_type": "code",
   "execution_count": 20,
   "metadata": {},
   "outputs": [
    {
     "data": {
      "text/plain": [
       "(array([2.0000e+01, 2.3332e+04, 3.1160e+03, 4.3700e+02, 2.6000e+02,\n",
       "        1.8500e+02, 1.8300e+02, 1.5500e+02, 1.4100e+02, 1.5900e+02,\n",
       "        9.5000e+01, 9.5000e+01, 1.2900e+02, 7.1000e+01, 1.7700e+02,\n",
       "        1.6150e+03, 2.5428e+04, 2.1700e+02, 4.0000e+00, 9.0000e+00]),\n",
       " array([-0.11447239, -0.04706993,  0.02033253,  0.08773498,  0.15513745,\n",
       "         0.2225399 ,  0.28994235,  0.3573448 ,  0.4247473 ,  0.49214974,\n",
       "         0.5595522 ,  0.6269547 ,  0.6943571 ,  0.7617596 ,  0.829162  ,\n",
       "         0.8965645 ,  0.96396697,  1.0313694 ,  1.0987718 ,  1.1661743 ,\n",
       "         1.2335768 ], dtype=float32),\n",
       " [<matplotlib.patches.Polygon at 0x1df04824d08>])"
      ]
     },
     "execution_count": 20,
     "metadata": {},
     "output_type": "execute_result"
    },
    {
     "data": {
      "image/png": "[encoded data removed]",
      "text/plain": [
       "<Figure size 432x288 with 1 Axes>"
      ]
     },
     "metadata": {
      "needs_background": "light"
     },
     "output_type": "display_data"
    }
   ],
   "source": [
    "plt.hist(test_predictions_mean,bins=20, density=False, alpha=0.5,histtype='stepfilled')"
   ]
  },
  {
   "cell_type": "code",
   "execution_count": null,
   "metadata": {},
   "outputs": [],
   "source": []
  },
  {
   "cell_type": "code",
   "execution_count": null,
   "metadata": {},
   "outputs": [],
   "source": []
  },
  {
   "cell_type": "code",
   "execution_count": null,
   "metadata": {},
   "outputs": [],
   "source": []
  },
  {
   "cell_type": "code",
   "execution_count": null,
   "metadata": {},
   "outputs": [],
   "source": []
  },
  {
   "cell_type": "code",
   "execution_count": null,
   "metadata": {},
   "outputs": [],
   "source": []
  },
  {
   "cell_type": "code",
   "execution_count": null,
   "metadata": {},
   "outputs": [],
   "source": []
  },
  {
   "cell_type": "code",
   "execution_count": null,
   "metadata": {},
   "outputs": [],
   "source": []
  },
  {
   "cell_type": "code",
   "execution_count": null,
   "metadata": {},
   "outputs": [],
   "source": []
  }
 ],
 "metadata": {
  "kernelspec": {
   "display_name": "Python 3",
   "language": "python",
   "name": "python3"
  },
  "language_info": {
   "codemirror_mode": {
    "name": "ipython",
    "version": 3
   },
   "file_extension": ".py",
   "mimetype": "text/x-python",
   "name": "python",
   "nbconvert_exporter": "python",
   "pygments_lexer": "ipython3",
   "version": "3.7.9"
  }
 },
 "nbformat": 4,
 "nbformat_minor": 4
}
